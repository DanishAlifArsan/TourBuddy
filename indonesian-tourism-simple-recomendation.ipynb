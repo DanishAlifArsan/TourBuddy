{
 "cells": [
  {
   "cell_type": "markdown",
   "id": "d3e88999",
   "metadata": {
    "papermill": {
     "duration": 0.01163,
     "end_time": "2022-10-01T16:35:00.880422",
     "exception": false,
     "start_time": "2022-10-01T16:35:00.868792",
     "status": "completed"
    },
    "tags": []
   },
   "source": [
    "# Data Understanding"
   ]
  },
  {
   "cell_type": "code",
   "execution_count": 1,
   "id": "4ac0aa6d",
   "metadata": {
    "execution": {
     "iopub.execute_input": "2022-10-01T16:35:00.903165Z",
     "iopub.status.busy": "2022-10-01T16:35:00.902332Z",
     "iopub.status.idle": "2022-10-01T16:35:00.954359Z",
     "shell.execute_reply": "2022-10-01T16:35:00.953487Z"
    },
    "papermill": {
     "duration": 0.065974,
     "end_time": "2022-10-01T16:35:00.956641",
     "exception": false,
     "start_time": "2022-10-01T16:35:00.890667",
     "status": "completed"
    },
    "tags": []
   },
   "outputs": [],
   "source": [
    "import pandas as pd\n",
    "DATA_PATH = \"../input/indonesia-tourism-destination\"\n",
    "\n",
    "info_tourism = pd.read_csv(f\"{DATA_PATH}/tourism_with_id.csv\")\n",
    "tourism_rating = pd.read_csv(f\"{DATA_PATH}/tourism_rating.csv\")\n",
    "users = pd.read_csv(f\"{DATA_PATH}/user.csv\")"
   ]
  },
  {
   "cell_type": "code",
   "execution_count": 2,
   "id": "24027987",
   "metadata": {
    "execution": {
     "iopub.execute_input": "2022-10-01T16:35:00.980459Z",
     "iopub.status.busy": "2022-10-01T16:35:00.979579Z",
     "iopub.status.idle": "2022-10-01T16:35:01.004592Z",
     "shell.execute_reply": "2022-10-01T16:35:01.003710Z"
    },
    "papermill": {
     "duration": 0.038535,
     "end_time": "2022-10-01T16:35:01.006785",
     "exception": false,
     "start_time": "2022-10-01T16:35:00.968250",
     "status": "completed"
    },
    "tags": []
   },
   "outputs": [
    {
     "data": {
      "text/html": [
       "<div>\n",
       "<style scoped>\n",
       "    .dataframe tbody tr th:only-of-type {\n",
       "        vertical-align: middle;\n",
       "    }\n",
       "\n",
       "    .dataframe tbody tr th {\n",
       "        vertical-align: top;\n",
       "    }\n",
       "\n",
       "    .dataframe thead th {\n",
       "        text-align: right;\n",
       "    }\n",
       "</style>\n",
       "<table border=\"1\" class=\"dataframe\">\n",
       "  <thead>\n",
       "    <tr style=\"text-align: right;\">\n",
       "      <th></th>\n",
       "      <th>Place_Id</th>\n",
       "      <th>Place_Name</th>\n",
       "      <th>Description</th>\n",
       "      <th>Category</th>\n",
       "      <th>City</th>\n",
       "      <th>Price</th>\n",
       "      <th>Rating</th>\n",
       "      <th>Time_Minutes</th>\n",
       "      <th>Coordinate</th>\n",
       "      <th>Lat</th>\n",
       "      <th>Long</th>\n",
       "      <th>Unnamed: 11</th>\n",
       "      <th>Unnamed: 12</th>\n",
       "    </tr>\n",
       "  </thead>\n",
       "  <tbody>\n",
       "    <tr>\n",
       "      <th>289</th>\n",
       "      <td>290</td>\n",
       "      <td>Museum Pendidikan Nasional</td>\n",
       "      <td>Museum Pendidikan Nasional Universitas Pendidi...</td>\n",
       "      <td>Budaya</td>\n",
       "      <td>Bandung</td>\n",
       "      <td>5000</td>\n",
       "      <td>4.6</td>\n",
       "      <td>NaN</td>\n",
       "      <td>{'lat': -6.859747400000001, 'lng': 107.5941693}</td>\n",
       "      <td>-6.859747</td>\n",
       "      <td>107.594169</td>\n",
       "      <td>NaN</td>\n",
       "      <td>290</td>\n",
       "    </tr>\n",
       "    <tr>\n",
       "      <th>125</th>\n",
       "      <td>126</td>\n",
       "      <td>Pantai Goa Cemara</td>\n",
       "      <td>Pantai Goa Cemara (bahasa Jawa: ꦥꦱꦶꦱꦶꦂ​ ꦒꦸꦮ​ ꦕ...</td>\n",
       "      <td>Bahari</td>\n",
       "      <td>Yogyakarta</td>\n",
       "      <td>4000</td>\n",
       "      <td>4.3</td>\n",
       "      <td>NaN</td>\n",
       "      <td>{'lat': -7.999422999999998, 'lng': 110.248963}</td>\n",
       "      <td>-7.999423</td>\n",
       "      <td>110.248963</td>\n",
       "      <td>NaN</td>\n",
       "      <td>126</td>\n",
       "    </tr>\n",
       "    <tr>\n",
       "      <th>10</th>\n",
       "      <td>11</td>\n",
       "      <td>Pulau Bidadari</td>\n",
       "      <td>Pulau Bidadari merupakan salah satu resor di K...</td>\n",
       "      <td>Bahari</td>\n",
       "      <td>Jakarta</td>\n",
       "      <td>5000</td>\n",
       "      <td>4.6</td>\n",
       "      <td>NaN</td>\n",
       "      <td>{'lat': -6.035832999999999, 'lng': 106.746944}</td>\n",
       "      <td>-6.035833</td>\n",
       "      <td>106.746944</td>\n",
       "      <td>NaN</td>\n",
       "      <td>11</td>\n",
       "    </tr>\n",
       "    <tr>\n",
       "      <th>79</th>\n",
       "      <td>80</td>\n",
       "      <td>Plaza Indonesia</td>\n",
       "      <td>Plaza Indonesia diresmikan pada awal tahun 199...</td>\n",
       "      <td>Pusat Perbelanjaan</td>\n",
       "      <td>Jakarta</td>\n",
       "      <td>0</td>\n",
       "      <td>4.7</td>\n",
       "      <td>120.0</td>\n",
       "      <td>{'lat': -6.193925900000002, 'lng': 106.8222158}</td>\n",
       "      <td>-6.193926</td>\n",
       "      <td>106.822216</td>\n",
       "      <td>NaN</td>\n",
       "      <td>80</td>\n",
       "    </tr>\n",
       "    <tr>\n",
       "      <th>188</th>\n",
       "      <td>189</td>\n",
       "      <td>Pantai Nguluran</td>\n",
       "      <td>Di pantai Nguluran anda hanya bisa melihat ham...</td>\n",
       "      <td>Bahari</td>\n",
       "      <td>Yogyakarta</td>\n",
       "      <td>10000</td>\n",
       "      <td>4.1</td>\n",
       "      <td>NaN</td>\n",
       "      <td>{'lat': -8.1060061, 'lng': 110.4618655}</td>\n",
       "      <td>-8.106006</td>\n",
       "      <td>110.461866</td>\n",
       "      <td>NaN</td>\n",
       "      <td>189</td>\n",
       "    </tr>\n",
       "  </tbody>\n",
       "</table>\n",
       "</div>"
      ],
      "text/plain": [
       "     Place_Id                  Place_Name  \\\n",
       "289       290  Museum Pendidikan Nasional   \n",
       "125       126           Pantai Goa Cemara   \n",
       "10         11              Pulau Bidadari   \n",
       "79         80             Plaza Indonesia   \n",
       "188       189             Pantai Nguluran   \n",
       "\n",
       "                                           Description            Category  \\\n",
       "289  Museum Pendidikan Nasional Universitas Pendidi...              Budaya   \n",
       "125  Pantai Goa Cemara (bahasa Jawa: ꦥꦱꦶꦱꦶꦂ​ ꦒꦸꦮ​ ꦕ...              Bahari   \n",
       "10   Pulau Bidadari merupakan salah satu resor di K...              Bahari   \n",
       "79   Plaza Indonesia diresmikan pada awal tahun 199...  Pusat Perbelanjaan   \n",
       "188  Di pantai Nguluran anda hanya bisa melihat ham...              Bahari   \n",
       "\n",
       "           City  Price  Rating  Time_Minutes  \\\n",
       "289     Bandung   5000     4.6           NaN   \n",
       "125  Yogyakarta   4000     4.3           NaN   \n",
       "10      Jakarta   5000     4.6           NaN   \n",
       "79      Jakarta      0     4.7         120.0   \n",
       "188  Yogyakarta  10000     4.1           NaN   \n",
       "\n",
       "                                          Coordinate       Lat        Long  \\\n",
       "289  {'lat': -6.859747400000001, 'lng': 107.5941693} -6.859747  107.594169   \n",
       "125   {'lat': -7.999422999999998, 'lng': 110.248963} -7.999423  110.248963   \n",
       "10    {'lat': -6.035832999999999, 'lng': 106.746944} -6.035833  106.746944   \n",
       "79   {'lat': -6.193925900000002, 'lng': 106.8222158} -6.193926  106.822216   \n",
       "188          {'lat': -8.1060061, 'lng': 110.4618655} -8.106006  110.461866   \n",
       "\n",
       "     Unnamed: 11  Unnamed: 12  \n",
       "289          NaN          290  \n",
       "125          NaN          126  \n",
       "10           NaN           11  \n",
       "79           NaN           80  \n",
       "188          NaN          189  "
      ]
     },
     "execution_count": 2,
     "metadata": {},
     "output_type": "execute_result"
    }
   ],
   "source": [
    "info_tourism.sample(5)"
   ]
  },
  {
   "cell_type": "code",
   "execution_count": 3,
   "id": "fa5a73e6",
   "metadata": {
    "execution": {
     "iopub.execute_input": "2022-10-01T16:35:01.029148Z",
     "iopub.status.busy": "2022-10-01T16:35:01.028502Z",
     "iopub.status.idle": "2022-10-01T16:35:01.038085Z",
     "shell.execute_reply": "2022-10-01T16:35:01.037145Z"
    },
    "papermill": {
     "duration": 0.022749,
     "end_time": "2022-10-01T16:35:01.039994",
     "exception": false,
     "start_time": "2022-10-01T16:35:01.017245",
     "status": "completed"
    },
    "tags": []
   },
   "outputs": [
    {
     "data": {
      "text/html": [
       "<div>\n",
       "<style scoped>\n",
       "    .dataframe tbody tr th:only-of-type {\n",
       "        vertical-align: middle;\n",
       "    }\n",
       "\n",
       "    .dataframe tbody tr th {\n",
       "        vertical-align: top;\n",
       "    }\n",
       "\n",
       "    .dataframe thead th {\n",
       "        text-align: right;\n",
       "    }\n",
       "</style>\n",
       "<table border=\"1\" class=\"dataframe\">\n",
       "  <thead>\n",
       "    <tr style=\"text-align: right;\">\n",
       "      <th></th>\n",
       "      <th>User_Id</th>\n",
       "      <th>Place_Id</th>\n",
       "      <th>Place_Ratings</th>\n",
       "    </tr>\n",
       "  </thead>\n",
       "  <tbody>\n",
       "    <tr>\n",
       "      <th>3411</th>\n",
       "      <td>104</td>\n",
       "      <td>127</td>\n",
       "      <td>4</td>\n",
       "    </tr>\n",
       "    <tr>\n",
       "      <th>3846</th>\n",
       "      <td>118</td>\n",
       "      <td>235</td>\n",
       "      <td>2</td>\n",
       "    </tr>\n",
       "    <tr>\n",
       "      <th>9607</th>\n",
       "      <td>289</td>\n",
       "      <td>325</td>\n",
       "      <td>1</td>\n",
       "    </tr>\n",
       "    <tr>\n",
       "      <th>9281</th>\n",
       "      <td>279</td>\n",
       "      <td>152</td>\n",
       "      <td>3</td>\n",
       "    </tr>\n",
       "    <tr>\n",
       "      <th>5405</th>\n",
       "      <td>164</td>\n",
       "      <td>291</td>\n",
       "      <td>4</td>\n",
       "    </tr>\n",
       "  </tbody>\n",
       "</table>\n",
       "</div>"
      ],
      "text/plain": [
       "      User_Id  Place_Id  Place_Ratings\n",
       "3411      104       127              4\n",
       "3846      118       235              2\n",
       "9607      289       325              1\n",
       "9281      279       152              3\n",
       "5405      164       291              4"
      ]
     },
     "execution_count": 3,
     "metadata": {},
     "output_type": "execute_result"
    }
   ],
   "source": [
    "tourism_rating.sample(5)"
   ]
  },
  {
   "cell_type": "code",
   "execution_count": 4,
   "id": "616591b9",
   "metadata": {
    "execution": {
     "iopub.execute_input": "2022-10-01T16:35:01.062644Z",
     "iopub.status.busy": "2022-10-01T16:35:01.062047Z",
     "iopub.status.idle": "2022-10-01T16:35:01.070459Z",
     "shell.execute_reply": "2022-10-01T16:35:01.069593Z"
    },
    "papermill": {
     "duration": 0.021735,
     "end_time": "2022-10-01T16:35:01.072284",
     "exception": false,
     "start_time": "2022-10-01T16:35:01.050549",
     "status": "completed"
    },
    "tags": []
   },
   "outputs": [
    {
     "data": {
      "text/html": [
       "<div>\n",
       "<style scoped>\n",
       "    .dataframe tbody tr th:only-of-type {\n",
       "        vertical-align: middle;\n",
       "    }\n",
       "\n",
       "    .dataframe tbody tr th {\n",
       "        vertical-align: top;\n",
       "    }\n",
       "\n",
       "    .dataframe thead th {\n",
       "        text-align: right;\n",
       "    }\n",
       "</style>\n",
       "<table border=\"1\" class=\"dataframe\">\n",
       "  <thead>\n",
       "    <tr style=\"text-align: right;\">\n",
       "      <th></th>\n",
       "      <th>User_Id</th>\n",
       "      <th>Location</th>\n",
       "      <th>Age</th>\n",
       "    </tr>\n",
       "  </thead>\n",
       "  <tbody>\n",
       "    <tr>\n",
       "      <th>135</th>\n",
       "      <td>136</td>\n",
       "      <td>Semarang, Jawa Tengah</td>\n",
       "      <td>35</td>\n",
       "    </tr>\n",
       "    <tr>\n",
       "      <th>258</th>\n",
       "      <td>259</td>\n",
       "      <td>Surabaya, Jawa Timur</td>\n",
       "      <td>27</td>\n",
       "    </tr>\n",
       "    <tr>\n",
       "      <th>171</th>\n",
       "      <td>172</td>\n",
       "      <td>Palembang, Sumatera Selatan</td>\n",
       "      <td>34</td>\n",
       "    </tr>\n",
       "    <tr>\n",
       "      <th>117</th>\n",
       "      <td>118</td>\n",
       "      <td>Karawang, Jawa Barat</td>\n",
       "      <td>32</td>\n",
       "    </tr>\n",
       "    <tr>\n",
       "      <th>179</th>\n",
       "      <td>180</td>\n",
       "      <td>Sragen, Jawa Tengah</td>\n",
       "      <td>24</td>\n",
       "    </tr>\n",
       "  </tbody>\n",
       "</table>\n",
       "</div>"
      ],
      "text/plain": [
       "     User_Id                     Location  Age\n",
       "135      136        Semarang, Jawa Tengah   35\n",
       "258      259         Surabaya, Jawa Timur   27\n",
       "171      172  Palembang, Sumatera Selatan   34\n",
       "117      118         Karawang, Jawa Barat   32\n",
       "179      180          Sragen, Jawa Tengah   24"
      ]
     },
     "execution_count": 4,
     "metadata": {},
     "output_type": "execute_result"
    }
   ],
   "source": [
    "users.sample(5)"
   ]
  },
  {
   "cell_type": "code",
   "execution_count": 5,
   "id": "5ec9bb06",
   "metadata": {
    "execution": {
     "iopub.execute_input": "2022-10-01T16:35:01.095847Z",
     "iopub.status.busy": "2022-10-01T16:35:01.095055Z",
     "iopub.status.idle": "2022-10-01T16:35:01.107056Z",
     "shell.execute_reply": "2022-10-01T16:35:01.105709Z"
    },
    "papermill": {
     "duration": 0.02593,
     "end_time": "2022-10-01T16:35:01.108982",
     "exception": false,
     "start_time": "2022-10-01T16:35:01.083052",
     "status": "completed"
    },
    "tags": []
   },
   "outputs": [
    {
     "name": "stdout",
     "output_type": "stream",
     "text": [
      "Number of places in the datasets : 437\n",
      "Number of users : 300\n",
      "The number of ratings given by the user to the dataset : 10000\n"
     ]
    }
   ],
   "source": [
    "print(f\"Number of places in the datasets : {len(info_tourism.Place_Id.unique())}\")\n",
    "print(f\"Number of users : {len(users.User_Id.unique())}\")\n",
    "print(f\"The number of ratings given by the user to the dataset : {len(tourism_rating.User_Id)}\")"
   ]
  },
  {
   "cell_type": "markdown",
   "id": "0fbb4373",
   "metadata": {
    "papermill": {
     "duration": 0.010689,
     "end_time": "2022-10-01T16:35:01.130496",
     "exception": false,
     "start_time": "2022-10-01T16:35:01.119807",
     "status": "completed"
    },
    "tags": []
   },
   "source": [
    "# Exploratory Data Analysis"
   ]
  },
  {
   "cell_type": "code",
   "execution_count": 6,
   "id": "02c3c713",
   "metadata": {
    "execution": {
     "iopub.execute_input": "2022-10-01T16:35:01.154135Z",
     "iopub.status.busy": "2022-10-01T16:35:01.153372Z",
     "iopub.status.idle": "2022-10-01T16:35:01.169924Z",
     "shell.execute_reply": "2022-10-01T16:35:01.168362Z"
    },
    "papermill": {
     "duration": 0.030517,
     "end_time": "2022-10-01T16:35:01.172145",
     "exception": false,
     "start_time": "2022-10-01T16:35:01.141628",
     "status": "completed"
    },
    "tags": []
   },
   "outputs": [
    {
     "name": "stdout",
     "output_type": "stream",
     "text": [
      "<class 'pandas.core.frame.DataFrame'>\n",
      "RangeIndex: 437 entries, 0 to 436\n",
      "Data columns (total 13 columns):\n",
      " #   Column        Non-Null Count  Dtype  \n",
      "---  ------        --------------  -----  \n",
      " 0   Place_Id      437 non-null    int64  \n",
      " 1   Place_Name    437 non-null    object \n",
      " 2   Description   437 non-null    object \n",
      " 3   Category      437 non-null    object \n",
      " 4   City          437 non-null    object \n",
      " 5   Price         437 non-null    int64  \n",
      " 6   Rating        437 non-null    float64\n",
      " 7   Time_Minutes  205 non-null    float64\n",
      " 8   Coordinate    437 non-null    object \n",
      " 9   Lat           437 non-null    float64\n",
      " 10  Long          437 non-null    float64\n",
      " 11  Unnamed: 11   0 non-null      float64\n",
      " 12  Unnamed: 12   437 non-null    int64  \n",
      "dtypes: float64(5), int64(3), object(5)\n",
      "memory usage: 44.5+ KB\n"
     ]
    }
   ],
   "source": [
    "info_tourism.info()"
   ]
  },
  {
   "cell_type": "code",
   "execution_count": 7,
   "id": "d1f21a02",
   "metadata": {
    "execution": {
     "iopub.execute_input": "2022-10-01T16:35:01.195223Z",
     "iopub.status.busy": "2022-10-01T16:35:01.194970Z",
     "iopub.status.idle": "2022-10-01T16:35:01.203211Z",
     "shell.execute_reply": "2022-10-01T16:35:01.202231Z"
    },
    "papermill": {
     "duration": 0.021819,
     "end_time": "2022-10-01T16:35:01.205292",
     "exception": false,
     "start_time": "2022-10-01T16:35:01.183473",
     "status": "completed"
    },
    "tags": []
   },
   "outputs": [
    {
     "data": {
      "text/plain": [
       "Place_Id          0\n",
       "Place_Name        0\n",
       "Description       0\n",
       "Category          0\n",
       "City              0\n",
       "Price             0\n",
       "Rating            0\n",
       "Time_Minutes    232\n",
       "Coordinate        0\n",
       "Lat               0\n",
       "Long              0\n",
       "Unnamed: 11     437\n",
       "Unnamed: 12       0\n",
       "dtype: int64"
      ]
     },
     "execution_count": 7,
     "metadata": {},
     "output_type": "execute_result"
    }
   ],
   "source": [
    "info_tourism.isnull().sum()"
   ]
  },
  {
   "cell_type": "code",
   "execution_count": 8,
   "id": "bacaca68",
   "metadata": {
    "execution": {
     "iopub.execute_input": "2022-10-01T16:35:01.228487Z",
     "iopub.status.busy": "2022-10-01T16:35:01.227702Z",
     "iopub.status.idle": "2022-10-01T16:35:01.237473Z",
     "shell.execute_reply": "2022-10-01T16:35:01.236585Z"
    },
    "papermill": {
     "duration": 0.023298,
     "end_time": "2022-10-01T16:35:01.239467",
     "exception": false,
     "start_time": "2022-10-01T16:35:01.216169",
     "status": "completed"
    },
    "tags": []
   },
   "outputs": [
    {
     "name": "stdout",
     "output_type": "stream",
     "text": [
      "<class 'pandas.core.frame.DataFrame'>\n",
      "RangeIndex: 10000 entries, 0 to 9999\n",
      "Data columns (total 3 columns):\n",
      " #   Column         Non-Null Count  Dtype\n",
      "---  ------         --------------  -----\n",
      " 0   User_Id        10000 non-null  int64\n",
      " 1   Place_Id       10000 non-null  int64\n",
      " 2   Place_Ratings  10000 non-null  int64\n",
      "dtypes: int64(3)\n",
      "memory usage: 234.5 KB\n"
     ]
    }
   ],
   "source": [
    "tourism_rating.info()"
   ]
  },
  {
   "cell_type": "code",
   "execution_count": 9,
   "id": "5fca6026",
   "metadata": {
    "execution": {
     "iopub.execute_input": "2022-10-01T16:35:01.262956Z",
     "iopub.status.busy": "2022-10-01T16:35:01.262168Z",
     "iopub.status.idle": "2022-10-01T16:35:01.269266Z",
     "shell.execute_reply": "2022-10-01T16:35:01.268324Z"
    },
    "papermill": {
     "duration": 0.020781,
     "end_time": "2022-10-01T16:35:01.271381",
     "exception": false,
     "start_time": "2022-10-01T16:35:01.250600",
     "status": "completed"
    },
    "tags": []
   },
   "outputs": [
    {
     "data": {
      "text/plain": [
       "User_Id          0\n",
       "Place_Id         0\n",
       "Place_Ratings    0\n",
       "dtype: int64"
      ]
     },
     "execution_count": 9,
     "metadata": {},
     "output_type": "execute_result"
    }
   ],
   "source": [
    "tourism_rating.isnull().sum()"
   ]
  },
  {
   "cell_type": "code",
   "execution_count": 10,
   "id": "92dc08af",
   "metadata": {
    "execution": {
     "iopub.execute_input": "2022-10-01T16:35:01.294988Z",
     "iopub.status.busy": "2022-10-01T16:35:01.294170Z",
     "iopub.status.idle": "2022-10-01T16:35:01.304012Z",
     "shell.execute_reply": "2022-10-01T16:35:01.302631Z"
    },
    "papermill": {
     "duration": 0.023595,
     "end_time": "2022-10-01T16:35:01.306090",
     "exception": false,
     "start_time": "2022-10-01T16:35:01.282495",
     "status": "completed"
    },
    "tags": []
   },
   "outputs": [
    {
     "name": "stdout",
     "output_type": "stream",
     "text": [
      "<class 'pandas.core.frame.DataFrame'>\n",
      "RangeIndex: 300 entries, 0 to 299\n",
      "Data columns (total 3 columns):\n",
      " #   Column    Non-Null Count  Dtype \n",
      "---  ------    --------------  ----- \n",
      " 0   User_Id   300 non-null    int64 \n",
      " 1   Location  300 non-null    object\n",
      " 2   Age       300 non-null    int64 \n",
      "dtypes: int64(2), object(1)\n",
      "memory usage: 7.2+ KB\n"
     ]
    }
   ],
   "source": [
    "users.info()"
   ]
  },
  {
   "cell_type": "code",
   "execution_count": 11,
   "id": "30ce45eb",
   "metadata": {
    "execution": {
     "iopub.execute_input": "2022-10-01T16:35:01.329722Z",
     "iopub.status.busy": "2022-10-01T16:35:01.328969Z",
     "iopub.status.idle": "2022-10-01T16:35:01.336335Z",
     "shell.execute_reply": "2022-10-01T16:35:01.335382Z"
    },
    "papermill": {
     "duration": 0.02114,
     "end_time": "2022-10-01T16:35:01.338215",
     "exception": false,
     "start_time": "2022-10-01T16:35:01.317075",
     "status": "completed"
    },
    "tags": []
   },
   "outputs": [
    {
     "data": {
      "text/plain": [
       "User_Id     0\n",
       "Location    0\n",
       "Age         0\n",
       "dtype: int64"
      ]
     },
     "execution_count": 11,
     "metadata": {},
     "output_type": "execute_result"
    }
   ],
   "source": [
    "users.isnull().sum()"
   ]
  },
  {
   "cell_type": "code",
   "execution_count": 12,
   "id": "884c05a5",
   "metadata": {
    "execution": {
     "iopub.execute_input": "2022-10-01T16:35:01.361826Z",
     "iopub.status.busy": "2022-10-01T16:35:01.361234Z",
     "iopub.status.idle": "2022-10-01T16:35:01.367538Z",
     "shell.execute_reply": "2022-10-01T16:35:01.366623Z"
    },
    "papermill": {
     "duration": 0.02016,
     "end_time": "2022-10-01T16:35:01.369453",
     "exception": false,
     "start_time": "2022-10-01T16:35:01.349293",
     "status": "completed"
    },
    "tags": []
   },
   "outputs": [
    {
     "data": {
      "text/plain": [
       "array(['Budaya', 'Taman Hiburan', 'Cagar Alam', 'Bahari',\n",
       "       'Pusat Perbelanjaan', 'Tempat Ibadah'], dtype=object)"
      ]
     },
     "execution_count": 12,
     "metadata": {},
     "output_type": "execute_result"
    }
   ],
   "source": [
    "info_tourism.Category.unique()"
   ]
  },
  {
   "cell_type": "markdown",
   "id": "1baf161c",
   "metadata": {
    "papermill": {
     "duration": 0.012616,
     "end_time": "2022-10-01T16:35:01.393656",
     "exception": false,
     "start_time": "2022-10-01T16:35:01.381040",
     "status": "completed"
    },
    "tags": []
   },
   "source": [
    "# Data Preprocessing"
   ]
  },
  {
   "cell_type": "code",
   "execution_count": 13,
   "id": "9183bf6e",
   "metadata": {
    "execution": {
     "iopub.execute_input": "2022-10-01T16:35:01.418644Z",
     "iopub.status.busy": "2022-10-01T16:35:01.417821Z",
     "iopub.status.idle": "2022-10-01T16:35:01.424440Z",
     "shell.execute_reply": "2022-10-01T16:35:01.423102Z"
    },
    "papermill": {
     "duration": 0.020923,
     "end_time": "2022-10-01T16:35:01.426410",
     "exception": false,
     "start_time": "2022-10-01T16:35:01.405487",
     "status": "completed"
    },
    "tags": []
   },
   "outputs": [
    {
     "name": "stdout",
     "output_type": "stream",
     "text": [
      "Total number of tourism: 437\n"
     ]
    }
   ],
   "source": [
    "import numpy as np\n",
    "\n",
    "tourism_all = np.concatenate((\n",
    "    info_tourism.Place_Id.unique(),\n",
    "    tourism_rating.Place_Id.unique()\n",
    "))\n",
    "\n",
    "tourism_all = np.sort(np.unique(tourism_all))\n",
    "\n",
    "print(f\"Total number of tourism: {len(tourism_all)}\")"
   ]
  },
  {
   "cell_type": "code",
   "execution_count": 14,
   "id": "299a9615",
   "metadata": {
    "execution": {
     "iopub.execute_input": "2022-10-01T16:35:01.450643Z",
     "iopub.status.busy": "2022-10-01T16:35:01.449798Z",
     "iopub.status.idle": "2022-10-01T16:35:01.459917Z",
     "shell.execute_reply": "2022-10-01T16:35:01.458937Z"
    },
    "papermill": {
     "duration": 0.024297,
     "end_time": "2022-10-01T16:35:01.461928",
     "exception": false,
     "start_time": "2022-10-01T16:35:01.437631",
     "status": "completed"
    },
    "tags": []
   },
   "outputs": [
    {
     "data": {
      "text/html": [
       "<div>\n",
       "<style scoped>\n",
       "    .dataframe tbody tr th:only-of-type {\n",
       "        vertical-align: middle;\n",
       "    }\n",
       "\n",
       "    .dataframe tbody tr th {\n",
       "        vertical-align: top;\n",
       "    }\n",
       "\n",
       "    .dataframe thead th {\n",
       "        text-align: right;\n",
       "    }\n",
       "</style>\n",
       "<table border=\"1\" class=\"dataframe\">\n",
       "  <thead>\n",
       "    <tr style=\"text-align: right;\">\n",
       "      <th></th>\n",
       "      <th>User_Id</th>\n",
       "      <th>Place_Id</th>\n",
       "      <th>Place_Ratings</th>\n",
       "    </tr>\n",
       "  </thead>\n",
       "  <tbody>\n",
       "    <tr>\n",
       "      <th>0</th>\n",
       "      <td>1</td>\n",
       "      <td>179</td>\n",
       "      <td>3</td>\n",
       "    </tr>\n",
       "    <tr>\n",
       "      <th>1</th>\n",
       "      <td>1</td>\n",
       "      <td>344</td>\n",
       "      <td>2</td>\n",
       "    </tr>\n",
       "    <tr>\n",
       "      <th>2</th>\n",
       "      <td>1</td>\n",
       "      <td>5</td>\n",
       "      <td>5</td>\n",
       "    </tr>\n",
       "    <tr>\n",
       "      <th>3</th>\n",
       "      <td>1</td>\n",
       "      <td>373</td>\n",
       "      <td>3</td>\n",
       "    </tr>\n",
       "    <tr>\n",
       "      <th>4</th>\n",
       "      <td>1</td>\n",
       "      <td>101</td>\n",
       "      <td>4</td>\n",
       "    </tr>\n",
       "    <tr>\n",
       "      <th>...</th>\n",
       "      <td>...</td>\n",
       "      <td>...</td>\n",
       "      <td>...</td>\n",
       "    </tr>\n",
       "    <tr>\n",
       "      <th>9995</th>\n",
       "      <td>300</td>\n",
       "      <td>425</td>\n",
       "      <td>2</td>\n",
       "    </tr>\n",
       "    <tr>\n",
       "      <th>9996</th>\n",
       "      <td>300</td>\n",
       "      <td>64</td>\n",
       "      <td>4</td>\n",
       "    </tr>\n",
       "    <tr>\n",
       "      <th>9997</th>\n",
       "      <td>300</td>\n",
       "      <td>311</td>\n",
       "      <td>3</td>\n",
       "    </tr>\n",
       "    <tr>\n",
       "      <th>9998</th>\n",
       "      <td>300</td>\n",
       "      <td>279</td>\n",
       "      <td>4</td>\n",
       "    </tr>\n",
       "    <tr>\n",
       "      <th>9999</th>\n",
       "      <td>300</td>\n",
       "      <td>163</td>\n",
       "      <td>2</td>\n",
       "    </tr>\n",
       "  </tbody>\n",
       "</table>\n",
       "<p>10000 rows × 3 columns</p>\n",
       "</div>"
      ],
      "text/plain": [
       "      User_Id  Place_Id  Place_Ratings\n",
       "0           1       179              3\n",
       "1           1       344              2\n",
       "2           1         5              5\n",
       "3           1       373              3\n",
       "4           1       101              4\n",
       "...       ...       ...            ...\n",
       "9995      300       425              2\n",
       "9996      300        64              4\n",
       "9997      300       311              3\n",
       "9998      300       279              4\n",
       "9999      300       163              2\n",
       "\n",
       "[10000 rows x 3 columns]"
      ]
     },
     "execution_count": 14,
     "metadata": {},
     "output_type": "execute_result"
    }
   ],
   "source": [
    "all_tourism_rate = tourism_rating\n",
    "all_tourism_rate"
   ]
  },
  {
   "cell_type": "code",
   "execution_count": 15,
   "id": "674ad5f2",
   "metadata": {
    "execution": {
     "iopub.execute_input": "2022-10-01T16:35:01.486689Z",
     "iopub.status.busy": "2022-10-01T16:35:01.486431Z",
     "iopub.status.idle": "2022-10-01T16:35:01.509840Z",
     "shell.execute_reply": "2022-10-01T16:35:01.508907Z"
    },
    "papermill": {
     "duration": 0.03839,
     "end_time": "2022-10-01T16:35:01.511801",
     "exception": false,
     "start_time": "2022-10-01T16:35:01.473411",
     "status": "completed"
    },
    "tags": []
   },
   "outputs": [
    {
     "data": {
      "text/html": [
       "<div>\n",
       "<style scoped>\n",
       "    .dataframe tbody tr th:only-of-type {\n",
       "        vertical-align: middle;\n",
       "    }\n",
       "\n",
       "    .dataframe tbody tr th {\n",
       "        vertical-align: top;\n",
       "    }\n",
       "\n",
       "    .dataframe thead th {\n",
       "        text-align: right;\n",
       "    }\n",
       "</style>\n",
       "<table border=\"1\" class=\"dataframe\">\n",
       "  <thead>\n",
       "    <tr style=\"text-align: right;\">\n",
       "      <th></th>\n",
       "      <th>User_Id</th>\n",
       "      <th>Place_Id</th>\n",
       "      <th>Place_Ratings</th>\n",
       "      <th>Place_Name</th>\n",
       "      <th>Description</th>\n",
       "      <th>City</th>\n",
       "      <th>Category</th>\n",
       "    </tr>\n",
       "  </thead>\n",
       "  <tbody>\n",
       "    <tr>\n",
       "      <th>0</th>\n",
       "      <td>1</td>\n",
       "      <td>179</td>\n",
       "      <td>3</td>\n",
       "      <td>Candi Ratu Boko</td>\n",
       "      <td>Situs Ratu Baka atau Candi Boko (Hanacaraka:ꦕꦤ...</td>\n",
       "      <td>Yogyakarta</td>\n",
       "      <td>Budaya</td>\n",
       "    </tr>\n",
       "    <tr>\n",
       "      <th>1</th>\n",
       "      <td>1</td>\n",
       "      <td>344</td>\n",
       "      <td>2</td>\n",
       "      <td>Pantai Marina</td>\n",
       "      <td>Pantai Marina (bahasa Jawa: ꦥꦱꦶꦱꦶꦂ​ꦩꦫꦶꦤ, trans...</td>\n",
       "      <td>Semarang</td>\n",
       "      <td>Bahari</td>\n",
       "    </tr>\n",
       "    <tr>\n",
       "      <th>2</th>\n",
       "      <td>1</td>\n",
       "      <td>5</td>\n",
       "      <td>5</td>\n",
       "      <td>Atlantis Water Adventure</td>\n",
       "      <td>Atlantis Water Adventure atau dikenal dengan A...</td>\n",
       "      <td>Jakarta</td>\n",
       "      <td>Taman Hiburan</td>\n",
       "    </tr>\n",
       "    <tr>\n",
       "      <th>3</th>\n",
       "      <td>1</td>\n",
       "      <td>373</td>\n",
       "      <td>3</td>\n",
       "      <td>Museum Kereta Ambarawa</td>\n",
       "      <td>Museum Kereta Api Ambarawa (bahasa Inggris: In...</td>\n",
       "      <td>Semarang</td>\n",
       "      <td>Budaya</td>\n",
       "    </tr>\n",
       "    <tr>\n",
       "      <th>4</th>\n",
       "      <td>1</td>\n",
       "      <td>101</td>\n",
       "      <td>4</td>\n",
       "      <td>Kampung Wisata Sosro Menduran</td>\n",
       "      <td>Kampung wisata Sosromenduran merupakan kampung...</td>\n",
       "      <td>Yogyakarta</td>\n",
       "      <td>Budaya</td>\n",
       "    </tr>\n",
       "    <tr>\n",
       "      <th>...</th>\n",
       "      <td>...</td>\n",
       "      <td>...</td>\n",
       "      <td>...</td>\n",
       "      <td>...</td>\n",
       "      <td>...</td>\n",
       "      <td>...</td>\n",
       "      <td>...</td>\n",
       "    </tr>\n",
       "    <tr>\n",
       "      <th>9995</th>\n",
       "      <td>300</td>\n",
       "      <td>425</td>\n",
       "      <td>2</td>\n",
       "      <td>Waterpark Kenjeran Surabaya</td>\n",
       "      <td>Waterpark Kenjeran Surabaya merupakan wisata k...</td>\n",
       "      <td>Surabaya</td>\n",
       "      <td>Taman Hiburan</td>\n",
       "    </tr>\n",
       "    <tr>\n",
       "      <th>9996</th>\n",
       "      <td>300</td>\n",
       "      <td>64</td>\n",
       "      <td>4</td>\n",
       "      <td>Museum Sasmita Loka Ahmad Yani</td>\n",
       "      <td>Museum Sasmita Loka Ahmad Yani adalah salah sa...</td>\n",
       "      <td>Jakarta</td>\n",
       "      <td>Budaya</td>\n",
       "    </tr>\n",
       "    <tr>\n",
       "      <th>9997</th>\n",
       "      <td>300</td>\n",
       "      <td>311</td>\n",
       "      <td>3</td>\n",
       "      <td>The Lodge Maribaya</td>\n",
       "      <td>The Lodge Maribaya adalah salah satu tempat wi...</td>\n",
       "      <td>Bandung</td>\n",
       "      <td>Cagar Alam</td>\n",
       "    </tr>\n",
       "    <tr>\n",
       "      <th>9998</th>\n",
       "      <td>300</td>\n",
       "      <td>279</td>\n",
       "      <td>4</td>\n",
       "      <td>Masjid Agung Trans Studio Bandung</td>\n",
       "      <td>Masjid Agung Trans Studio Bandung (TSB) berdir...</td>\n",
       "      <td>Bandung</td>\n",
       "      <td>Tempat Ibadah</td>\n",
       "    </tr>\n",
       "    <tr>\n",
       "      <th>9999</th>\n",
       "      <td>300</td>\n",
       "      <td>163</td>\n",
       "      <td>2</td>\n",
       "      <td>Watu Mabur Mangunan</td>\n",
       "      <td>Kawasan Tebing Watu Mabur ini terbilang belum ...</td>\n",
       "      <td>Yogyakarta</td>\n",
       "      <td>Cagar Alam</td>\n",
       "    </tr>\n",
       "  </tbody>\n",
       "</table>\n",
       "<p>10000 rows × 7 columns</p>\n",
       "</div>"
      ],
      "text/plain": [
       "      User_Id  Place_Id  Place_Ratings                         Place_Name  \\\n",
       "0           1       179              3                    Candi Ratu Boko   \n",
       "1           1       344              2                      Pantai Marina   \n",
       "2           1         5              5           Atlantis Water Adventure   \n",
       "3           1       373              3             Museum Kereta Ambarawa   \n",
       "4           1       101              4      Kampung Wisata Sosro Menduran   \n",
       "...       ...       ...            ...                                ...   \n",
       "9995      300       425              2        Waterpark Kenjeran Surabaya   \n",
       "9996      300        64              4     Museum Sasmita Loka Ahmad Yani   \n",
       "9997      300       311              3                 The Lodge Maribaya   \n",
       "9998      300       279              4  Masjid Agung Trans Studio Bandung   \n",
       "9999      300       163              2                Watu Mabur Mangunan   \n",
       "\n",
       "                                            Description        City  \\\n",
       "0     Situs Ratu Baka atau Candi Boko (Hanacaraka:ꦕꦤ...  Yogyakarta   \n",
       "1     Pantai Marina (bahasa Jawa: ꦥꦱꦶꦱꦶꦂ​ꦩꦫꦶꦤ, trans...    Semarang   \n",
       "2     Atlantis Water Adventure atau dikenal dengan A...     Jakarta   \n",
       "3     Museum Kereta Api Ambarawa (bahasa Inggris: In...    Semarang   \n",
       "4     Kampung wisata Sosromenduran merupakan kampung...  Yogyakarta   \n",
       "...                                                 ...         ...   \n",
       "9995  Waterpark Kenjeran Surabaya merupakan wisata k...    Surabaya   \n",
       "9996  Museum Sasmita Loka Ahmad Yani adalah salah sa...     Jakarta   \n",
       "9997  The Lodge Maribaya adalah salah satu tempat wi...     Bandung   \n",
       "9998  Masjid Agung Trans Studio Bandung (TSB) berdir...     Bandung   \n",
       "9999  Kawasan Tebing Watu Mabur ini terbilang belum ...  Yogyakarta   \n",
       "\n",
       "           Category  \n",
       "0            Budaya  \n",
       "1            Bahari  \n",
       "2     Taman Hiburan  \n",
       "3            Budaya  \n",
       "4            Budaya  \n",
       "...             ...  \n",
       "9995  Taman Hiburan  \n",
       "9996         Budaya  \n",
       "9997     Cagar Alam  \n",
       "9998  Tempat Ibadah  \n",
       "9999     Cagar Alam  \n",
       "\n",
       "[10000 rows x 7 columns]"
      ]
     },
     "execution_count": 15,
     "metadata": {},
     "output_type": "execute_result"
    }
   ],
   "source": [
    "all_tourism = pd.merge(all_tourism_rate,info_tourism[[\"Place_Id\",\"Place_Name\",\"Description\",\"City\",\"Category\"]],on='Place_Id', how='left')\n",
    "all_tourism"
   ]
  },
  {
   "cell_type": "code",
   "execution_count": 16,
   "id": "72a1e362",
   "metadata": {
    "execution": {
     "iopub.execute_input": "2022-10-01T16:35:01.536952Z",
     "iopub.status.busy": "2022-10-01T16:35:01.536131Z",
     "iopub.status.idle": "2022-10-01T16:35:01.873751Z",
     "shell.execute_reply": "2022-10-01T16:35:01.872817Z"
    },
    "papermill": {
     "duration": 0.352569,
     "end_time": "2022-10-01T16:35:01.876165",
     "exception": false,
     "start_time": "2022-10-01T16:35:01.523596",
     "status": "completed"
    },
    "tags": []
   },
   "outputs": [],
   "source": [
    "all_tourism['city_category'] = all_tourism[['City','Category']].agg(' '.join,axis=1)"
   ]
  },
  {
   "cell_type": "code",
   "execution_count": 17,
   "id": "b3f83be4",
   "metadata": {
    "execution": {
     "iopub.execute_input": "2022-10-01T16:35:01.902132Z",
     "iopub.status.busy": "2022-10-01T16:35:01.901585Z",
     "iopub.status.idle": "2022-10-01T16:35:01.917474Z",
     "shell.execute_reply": "2022-10-01T16:35:01.916482Z"
    },
    "papermill": {
     "duration": 0.031612,
     "end_time": "2022-10-01T16:35:01.919995",
     "exception": false,
     "start_time": "2022-10-01T16:35:01.888383",
     "status": "completed"
    },
    "tags": []
   },
   "outputs": [
    {
     "data": {
      "text/html": [
       "<div>\n",
       "<style scoped>\n",
       "    .dataframe tbody tr th:only-of-type {\n",
       "        vertical-align: middle;\n",
       "    }\n",
       "\n",
       "    .dataframe tbody tr th {\n",
       "        vertical-align: top;\n",
       "    }\n",
       "\n",
       "    .dataframe thead th {\n",
       "        text-align: right;\n",
       "    }\n",
       "</style>\n",
       "<table border=\"1\" class=\"dataframe\">\n",
       "  <thead>\n",
       "    <tr style=\"text-align: right;\">\n",
       "      <th></th>\n",
       "      <th>User_Id</th>\n",
       "      <th>Place_Id</th>\n",
       "      <th>Place_Ratings</th>\n",
       "      <th>Place_Name</th>\n",
       "      <th>Description</th>\n",
       "      <th>City</th>\n",
       "      <th>Category</th>\n",
       "      <th>city_category</th>\n",
       "    </tr>\n",
       "  </thead>\n",
       "  <tbody>\n",
       "    <tr>\n",
       "      <th>0</th>\n",
       "      <td>1</td>\n",
       "      <td>179</td>\n",
       "      <td>3</td>\n",
       "      <td>Candi Ratu Boko</td>\n",
       "      <td>Situs Ratu Baka atau Candi Boko (Hanacaraka:ꦕꦤ...</td>\n",
       "      <td>Yogyakarta</td>\n",
       "      <td>Budaya</td>\n",
       "      <td>Yogyakarta Budaya</td>\n",
       "    </tr>\n",
       "    <tr>\n",
       "      <th>1</th>\n",
       "      <td>1</td>\n",
       "      <td>344</td>\n",
       "      <td>2</td>\n",
       "      <td>Pantai Marina</td>\n",
       "      <td>Pantai Marina (bahasa Jawa: ꦥꦱꦶꦱꦶꦂ​ꦩꦫꦶꦤ, trans...</td>\n",
       "      <td>Semarang</td>\n",
       "      <td>Bahari</td>\n",
       "      <td>Semarang Bahari</td>\n",
       "    </tr>\n",
       "    <tr>\n",
       "      <th>2</th>\n",
       "      <td>1</td>\n",
       "      <td>5</td>\n",
       "      <td>5</td>\n",
       "      <td>Atlantis Water Adventure</td>\n",
       "      <td>Atlantis Water Adventure atau dikenal dengan A...</td>\n",
       "      <td>Jakarta</td>\n",
       "      <td>Taman Hiburan</td>\n",
       "      <td>Jakarta Taman Hiburan</td>\n",
       "    </tr>\n",
       "    <tr>\n",
       "      <th>3</th>\n",
       "      <td>1</td>\n",
       "      <td>373</td>\n",
       "      <td>3</td>\n",
       "      <td>Museum Kereta Ambarawa</td>\n",
       "      <td>Museum Kereta Api Ambarawa (bahasa Inggris: In...</td>\n",
       "      <td>Semarang</td>\n",
       "      <td>Budaya</td>\n",
       "      <td>Semarang Budaya</td>\n",
       "    </tr>\n",
       "    <tr>\n",
       "      <th>4</th>\n",
       "      <td>1</td>\n",
       "      <td>101</td>\n",
       "      <td>4</td>\n",
       "      <td>Kampung Wisata Sosro Menduran</td>\n",
       "      <td>Kampung wisata Sosromenduran merupakan kampung...</td>\n",
       "      <td>Yogyakarta</td>\n",
       "      <td>Budaya</td>\n",
       "      <td>Yogyakarta Budaya</td>\n",
       "    </tr>\n",
       "    <tr>\n",
       "      <th>...</th>\n",
       "      <td>...</td>\n",
       "      <td>...</td>\n",
       "      <td>...</td>\n",
       "      <td>...</td>\n",
       "      <td>...</td>\n",
       "      <td>...</td>\n",
       "      <td>...</td>\n",
       "      <td>...</td>\n",
       "    </tr>\n",
       "    <tr>\n",
       "      <th>9995</th>\n",
       "      <td>300</td>\n",
       "      <td>425</td>\n",
       "      <td>2</td>\n",
       "      <td>Waterpark Kenjeran Surabaya</td>\n",
       "      <td>Waterpark Kenjeran Surabaya merupakan wisata k...</td>\n",
       "      <td>Surabaya</td>\n",
       "      <td>Taman Hiburan</td>\n",
       "      <td>Surabaya Taman Hiburan</td>\n",
       "    </tr>\n",
       "    <tr>\n",
       "      <th>9996</th>\n",
       "      <td>300</td>\n",
       "      <td>64</td>\n",
       "      <td>4</td>\n",
       "      <td>Museum Sasmita Loka Ahmad Yani</td>\n",
       "      <td>Museum Sasmita Loka Ahmad Yani adalah salah sa...</td>\n",
       "      <td>Jakarta</td>\n",
       "      <td>Budaya</td>\n",
       "      <td>Jakarta Budaya</td>\n",
       "    </tr>\n",
       "    <tr>\n",
       "      <th>9997</th>\n",
       "      <td>300</td>\n",
       "      <td>311</td>\n",
       "      <td>3</td>\n",
       "      <td>The Lodge Maribaya</td>\n",
       "      <td>The Lodge Maribaya adalah salah satu tempat wi...</td>\n",
       "      <td>Bandung</td>\n",
       "      <td>Cagar Alam</td>\n",
       "      <td>Bandung Cagar Alam</td>\n",
       "    </tr>\n",
       "    <tr>\n",
       "      <th>9998</th>\n",
       "      <td>300</td>\n",
       "      <td>279</td>\n",
       "      <td>4</td>\n",
       "      <td>Masjid Agung Trans Studio Bandung</td>\n",
       "      <td>Masjid Agung Trans Studio Bandung (TSB) berdir...</td>\n",
       "      <td>Bandung</td>\n",
       "      <td>Tempat Ibadah</td>\n",
       "      <td>Bandung Tempat Ibadah</td>\n",
       "    </tr>\n",
       "    <tr>\n",
       "      <th>9999</th>\n",
       "      <td>300</td>\n",
       "      <td>163</td>\n",
       "      <td>2</td>\n",
       "      <td>Watu Mabur Mangunan</td>\n",
       "      <td>Kawasan Tebing Watu Mabur ini terbilang belum ...</td>\n",
       "      <td>Yogyakarta</td>\n",
       "      <td>Cagar Alam</td>\n",
       "      <td>Yogyakarta Cagar Alam</td>\n",
       "    </tr>\n",
       "  </tbody>\n",
       "</table>\n",
       "<p>10000 rows × 8 columns</p>\n",
       "</div>"
      ],
      "text/plain": [
       "      User_Id  Place_Id  Place_Ratings                         Place_Name  \\\n",
       "0           1       179              3                    Candi Ratu Boko   \n",
       "1           1       344              2                      Pantai Marina   \n",
       "2           1         5              5           Atlantis Water Adventure   \n",
       "3           1       373              3             Museum Kereta Ambarawa   \n",
       "4           1       101              4      Kampung Wisata Sosro Menduran   \n",
       "...       ...       ...            ...                                ...   \n",
       "9995      300       425              2        Waterpark Kenjeran Surabaya   \n",
       "9996      300        64              4     Museum Sasmita Loka Ahmad Yani   \n",
       "9997      300       311              3                 The Lodge Maribaya   \n",
       "9998      300       279              4  Masjid Agung Trans Studio Bandung   \n",
       "9999      300       163              2                Watu Mabur Mangunan   \n",
       "\n",
       "                                            Description        City  \\\n",
       "0     Situs Ratu Baka atau Candi Boko (Hanacaraka:ꦕꦤ...  Yogyakarta   \n",
       "1     Pantai Marina (bahasa Jawa: ꦥꦱꦶꦱꦶꦂ​ꦩꦫꦶꦤ, trans...    Semarang   \n",
       "2     Atlantis Water Adventure atau dikenal dengan A...     Jakarta   \n",
       "3     Museum Kereta Api Ambarawa (bahasa Inggris: In...    Semarang   \n",
       "4     Kampung wisata Sosromenduran merupakan kampung...  Yogyakarta   \n",
       "...                                                 ...         ...   \n",
       "9995  Waterpark Kenjeran Surabaya merupakan wisata k...    Surabaya   \n",
       "9996  Museum Sasmita Loka Ahmad Yani adalah salah sa...     Jakarta   \n",
       "9997  The Lodge Maribaya adalah salah satu tempat wi...     Bandung   \n",
       "9998  Masjid Agung Trans Studio Bandung (TSB) berdir...     Bandung   \n",
       "9999  Kawasan Tebing Watu Mabur ini terbilang belum ...  Yogyakarta   \n",
       "\n",
       "           Category           city_category  \n",
       "0            Budaya       Yogyakarta Budaya  \n",
       "1            Bahari         Semarang Bahari  \n",
       "2     Taman Hiburan   Jakarta Taman Hiburan  \n",
       "3            Budaya         Semarang Budaya  \n",
       "4            Budaya       Yogyakarta Budaya  \n",
       "...             ...                     ...  \n",
       "9995  Taman Hiburan  Surabaya Taman Hiburan  \n",
       "9996         Budaya          Jakarta Budaya  \n",
       "9997     Cagar Alam      Bandung Cagar Alam  \n",
       "9998  Tempat Ibadah   Bandung Tempat Ibadah  \n",
       "9999     Cagar Alam   Yogyakarta Cagar Alam  \n",
       "\n",
       "[10000 rows x 8 columns]"
      ]
     },
     "execution_count": 17,
     "metadata": {},
     "output_type": "execute_result"
    }
   ],
   "source": [
    "all_tourism"
   ]
  },
  {
   "cell_type": "markdown",
   "id": "d970a434",
   "metadata": {
    "papermill": {
     "duration": 0.011864,
     "end_time": "2022-10-01T16:35:01.943954",
     "exception": false,
     "start_time": "2022-10-01T16:35:01.932090",
     "status": "completed"
    },
    "tags": []
   },
   "source": [
    "# Data Preparation"
   ]
  },
  {
   "cell_type": "markdown",
   "id": "5928fa4c",
   "metadata": {
    "papermill": {
     "duration": 0.01177,
     "end_time": "2022-10-01T16:35:01.967680",
     "exception": false,
     "start_time": "2022-10-01T16:35:01.955910",
     "status": "completed"
    },
    "tags": []
   },
   "source": [
    "## Missing Values"
   ]
  },
  {
   "cell_type": "code",
   "execution_count": 18,
   "id": "229da3c1",
   "metadata": {
    "execution": {
     "iopub.execute_input": "2022-10-01T16:35:01.993946Z",
     "iopub.status.busy": "2022-10-01T16:35:01.993164Z",
     "iopub.status.idle": "2022-10-01T16:35:02.003119Z",
     "shell.execute_reply": "2022-10-01T16:35:02.001716Z"
    },
    "papermill": {
     "duration": 0.024915,
     "end_time": "2022-10-01T16:35:02.005078",
     "exception": false,
     "start_time": "2022-10-01T16:35:01.980163",
     "status": "completed"
    },
    "tags": []
   },
   "outputs": [
    {
     "data": {
      "text/plain": [
       "User_Id          0\n",
       "Place_Id         0\n",
       "Place_Ratings    0\n",
       "Place_Name       0\n",
       "Description      0\n",
       "City             0\n",
       "Category         0\n",
       "city_category    0\n",
       "dtype: int64"
      ]
     },
     "execution_count": 18,
     "metadata": {},
     "output_type": "execute_result"
    }
   ],
   "source": [
    "all_tourism.isnull().sum()"
   ]
  },
  {
   "cell_type": "code",
   "execution_count": 19,
   "id": "3f935c00",
   "metadata": {
    "execution": {
     "iopub.execute_input": "2022-10-01T16:35:02.031043Z",
     "iopub.status.busy": "2022-10-01T16:35:02.030203Z",
     "iopub.status.idle": "2022-10-01T16:35:02.045786Z",
     "shell.execute_reply": "2022-10-01T16:35:02.044935Z"
    },
    "papermill": {
     "duration": 0.030503,
     "end_time": "2022-10-01T16:35:02.047726",
     "exception": false,
     "start_time": "2022-10-01T16:35:02.017223",
     "status": "completed"
    },
    "tags": []
   },
   "outputs": [
    {
     "data": {
      "text/html": [
       "<div>\n",
       "<style scoped>\n",
       "    .dataframe tbody tr th:only-of-type {\n",
       "        vertical-align: middle;\n",
       "    }\n",
       "\n",
       "    .dataframe tbody tr th {\n",
       "        vertical-align: top;\n",
       "    }\n",
       "\n",
       "    .dataframe thead th {\n",
       "        text-align: right;\n",
       "    }\n",
       "</style>\n",
       "<table border=\"1\" class=\"dataframe\">\n",
       "  <thead>\n",
       "    <tr style=\"text-align: right;\">\n",
       "      <th></th>\n",
       "      <th>User_Id</th>\n",
       "      <th>Place_Id</th>\n",
       "      <th>Place_Ratings</th>\n",
       "      <th>Place_Name</th>\n",
       "      <th>Description</th>\n",
       "      <th>City</th>\n",
       "      <th>Category</th>\n",
       "      <th>city_category</th>\n",
       "    </tr>\n",
       "  </thead>\n",
       "  <tbody>\n",
       "    <tr>\n",
       "      <th>0</th>\n",
       "      <td>1</td>\n",
       "      <td>179</td>\n",
       "      <td>3</td>\n",
       "      <td>Candi Ratu Boko</td>\n",
       "      <td>Situs Ratu Baka atau Candi Boko (Hanacaraka:ꦕꦤ...</td>\n",
       "      <td>Yogyakarta</td>\n",
       "      <td>Budaya</td>\n",
       "      <td>Yogyakarta Budaya</td>\n",
       "    </tr>\n",
       "    <tr>\n",
       "      <th>1</th>\n",
       "      <td>1</td>\n",
       "      <td>344</td>\n",
       "      <td>2</td>\n",
       "      <td>Pantai Marina</td>\n",
       "      <td>Pantai Marina (bahasa Jawa: ꦥꦱꦶꦱꦶꦂ​ꦩꦫꦶꦤ, trans...</td>\n",
       "      <td>Semarang</td>\n",
       "      <td>Bahari</td>\n",
       "      <td>Semarang Bahari</td>\n",
       "    </tr>\n",
       "    <tr>\n",
       "      <th>2</th>\n",
       "      <td>1</td>\n",
       "      <td>5</td>\n",
       "      <td>5</td>\n",
       "      <td>Atlantis Water Adventure</td>\n",
       "      <td>Atlantis Water Adventure atau dikenal dengan A...</td>\n",
       "      <td>Jakarta</td>\n",
       "      <td>Taman Hiburan</td>\n",
       "      <td>Jakarta Taman Hiburan</td>\n",
       "    </tr>\n",
       "    <tr>\n",
       "      <th>3</th>\n",
       "      <td>1</td>\n",
       "      <td>373</td>\n",
       "      <td>3</td>\n",
       "      <td>Museum Kereta Ambarawa</td>\n",
       "      <td>Museum Kereta Api Ambarawa (bahasa Inggris: In...</td>\n",
       "      <td>Semarang</td>\n",
       "      <td>Budaya</td>\n",
       "      <td>Semarang Budaya</td>\n",
       "    </tr>\n",
       "    <tr>\n",
       "      <th>4</th>\n",
       "      <td>1</td>\n",
       "      <td>101</td>\n",
       "      <td>4</td>\n",
       "      <td>Kampung Wisata Sosro Menduran</td>\n",
       "      <td>Kampung wisata Sosromenduran merupakan kampung...</td>\n",
       "      <td>Yogyakarta</td>\n",
       "      <td>Budaya</td>\n",
       "      <td>Yogyakarta Budaya</td>\n",
       "    </tr>\n",
       "    <tr>\n",
       "      <th>...</th>\n",
       "      <td>...</td>\n",
       "      <td>...</td>\n",
       "      <td>...</td>\n",
       "      <td>...</td>\n",
       "      <td>...</td>\n",
       "      <td>...</td>\n",
       "      <td>...</td>\n",
       "      <td>...</td>\n",
       "    </tr>\n",
       "    <tr>\n",
       "      <th>2008</th>\n",
       "      <td>62</td>\n",
       "      <td>370</td>\n",
       "      <td>1</td>\n",
       "      <td>Benteng Pendem</td>\n",
       "      <td>Benteng Pendem Cilacap (bahasa Belanda: Kustba...</td>\n",
       "      <td>Semarang</td>\n",
       "      <td>Budaya</td>\n",
       "      <td>Semarang Budaya</td>\n",
       "    </tr>\n",
       "    <tr>\n",
       "      <th>2399</th>\n",
       "      <td>74</td>\n",
       "      <td>350</td>\n",
       "      <td>4</td>\n",
       "      <td>Pantai Cipta</td>\n",
       "      <td>Pantai Cipta juga dikenal sebagai Pantai Petik...</td>\n",
       "      <td>Semarang</td>\n",
       "      <td>Bahari</td>\n",
       "      <td>Semarang Bahari</td>\n",
       "    </tr>\n",
       "    <tr>\n",
       "      <th>2448</th>\n",
       "      <td>75</td>\n",
       "      <td>10</td>\n",
       "      <td>2</td>\n",
       "      <td>Pulau Tidung</td>\n",
       "      <td>Pulau Tidung adalah salah satu kelurahan di ke...</td>\n",
       "      <td>Jakarta</td>\n",
       "      <td>Bahari</td>\n",
       "      <td>Jakarta Bahari</td>\n",
       "    </tr>\n",
       "    <tr>\n",
       "      <th>2534</th>\n",
       "      <td>78</td>\n",
       "      <td>7</td>\n",
       "      <td>4</td>\n",
       "      <td>Kebun Binatang Ragunan</td>\n",
       "      <td>Kebun Binatang Ragunan adalah sebuah kebun bin...</td>\n",
       "      <td>Jakarta</td>\n",
       "      <td>Cagar Alam</td>\n",
       "      <td>Jakarta Cagar Alam</td>\n",
       "    </tr>\n",
       "    <tr>\n",
       "      <th>2918</th>\n",
       "      <td>90</td>\n",
       "      <td>140</td>\n",
       "      <td>1</td>\n",
       "      <td>Bendung Lepen</td>\n",
       "      <td>Bendung Lepen sendiri dulunya merupakan salura...</td>\n",
       "      <td>Yogyakarta</td>\n",
       "      <td>Taman Hiburan</td>\n",
       "      <td>Yogyakarta Taman Hiburan</td>\n",
       "    </tr>\n",
       "  </tbody>\n",
       "</table>\n",
       "<p>437 rows × 8 columns</p>\n",
       "</div>"
      ],
      "text/plain": [
       "      User_Id  Place_Id  Place_Ratings                     Place_Name  \\\n",
       "0           1       179              3                Candi Ratu Boko   \n",
       "1           1       344              2                  Pantai Marina   \n",
       "2           1         5              5       Atlantis Water Adventure   \n",
       "3           1       373              3         Museum Kereta Ambarawa   \n",
       "4           1       101              4  Kampung Wisata Sosro Menduran   \n",
       "...       ...       ...            ...                            ...   \n",
       "2008       62       370              1                 Benteng Pendem   \n",
       "2399       74       350              4                   Pantai Cipta   \n",
       "2448       75        10              2                   Pulau Tidung   \n",
       "2534       78         7              4         Kebun Binatang Ragunan   \n",
       "2918       90       140              1                  Bendung Lepen   \n",
       "\n",
       "                                            Description        City  \\\n",
       "0     Situs Ratu Baka atau Candi Boko (Hanacaraka:ꦕꦤ...  Yogyakarta   \n",
       "1     Pantai Marina (bahasa Jawa: ꦥꦱꦶꦱꦶꦂ​ꦩꦫꦶꦤ, trans...    Semarang   \n",
       "2     Atlantis Water Adventure atau dikenal dengan A...     Jakarta   \n",
       "3     Museum Kereta Api Ambarawa (bahasa Inggris: In...    Semarang   \n",
       "4     Kampung wisata Sosromenduran merupakan kampung...  Yogyakarta   \n",
       "...                                                 ...         ...   \n",
       "2008  Benteng Pendem Cilacap (bahasa Belanda: Kustba...    Semarang   \n",
       "2399  Pantai Cipta juga dikenal sebagai Pantai Petik...    Semarang   \n",
       "2448  Pulau Tidung adalah salah satu kelurahan di ke...     Jakarta   \n",
       "2534  Kebun Binatang Ragunan adalah sebuah kebun bin...     Jakarta   \n",
       "2918  Bendung Lepen sendiri dulunya merupakan salura...  Yogyakarta   \n",
       "\n",
       "           Category             city_category  \n",
       "0            Budaya         Yogyakarta Budaya  \n",
       "1            Bahari           Semarang Bahari  \n",
       "2     Taman Hiburan     Jakarta Taman Hiburan  \n",
       "3            Budaya           Semarang Budaya  \n",
       "4            Budaya         Yogyakarta Budaya  \n",
       "...             ...                       ...  \n",
       "2008         Budaya           Semarang Budaya  \n",
       "2399         Bahari           Semarang Bahari  \n",
       "2448         Bahari            Jakarta Bahari  \n",
       "2534     Cagar Alam        Jakarta Cagar Alam  \n",
       "2918  Taman Hiburan  Yogyakarta Taman Hiburan  \n",
       "\n",
       "[437 rows x 8 columns]"
      ]
     },
     "execution_count": 19,
     "metadata": {},
     "output_type": "execute_result"
    }
   ],
   "source": [
    "preparation= all_tourism.drop_duplicates(\"Place_Id\")\n",
    "preparation"
   ]
  },
  {
   "cell_type": "code",
   "execution_count": 20,
   "id": "b76989ed",
   "metadata": {
    "execution": {
     "iopub.execute_input": "2022-10-01T16:35:02.074645Z",
     "iopub.status.busy": "2022-10-01T16:35:02.073905Z",
     "iopub.status.idle": "2022-10-01T16:35:02.079717Z",
     "shell.execute_reply": "2022-10-01T16:35:02.078928Z"
    },
    "papermill": {
     "duration": 0.020998,
     "end_time": "2022-10-01T16:35:02.081678",
     "exception": false,
     "start_time": "2022-10-01T16:35:02.060680",
     "status": "completed"
    },
    "tags": []
   },
   "outputs": [],
   "source": [
    "place_id = preparation.Place_Id.tolist()\n",
    "\n",
    "place_name = preparation.Place_Name.tolist()\n",
    "\n",
    "place_category = preparation.Category.tolist()\n",
    "\n",
    "place_desc = preparation.Description.tolist()\n",
    "\n",
    "place_city = preparation.City.tolist()\n",
    "\n",
    "city_category = preparation.city_category.tolist()"
   ]
  },
  {
   "cell_type": "code",
   "execution_count": 21,
   "id": "7b7b8fee",
   "metadata": {
    "execution": {
     "iopub.execute_input": "2022-10-01T16:35:02.108216Z",
     "iopub.status.busy": "2022-10-01T16:35:02.107411Z",
     "iopub.status.idle": "2022-10-01T16:35:02.121484Z",
     "shell.execute_reply": "2022-10-01T16:35:02.120532Z"
    },
    "papermill": {
     "duration": 0.029316,
     "end_time": "2022-10-01T16:35:02.123425",
     "exception": false,
     "start_time": "2022-10-01T16:35:02.094109",
     "status": "completed"
    },
    "tags": []
   },
   "outputs": [
    {
     "data": {
      "text/html": [
       "<div>\n",
       "<style scoped>\n",
       "    .dataframe tbody tr th:only-of-type {\n",
       "        vertical-align: middle;\n",
       "    }\n",
       "\n",
       "    .dataframe tbody tr th {\n",
       "        vertical-align: top;\n",
       "    }\n",
       "\n",
       "    .dataframe thead th {\n",
       "        text-align: right;\n",
       "    }\n",
       "</style>\n",
       "<table border=\"1\" class=\"dataframe\">\n",
       "  <thead>\n",
       "    <tr style=\"text-align: right;\">\n",
       "      <th></th>\n",
       "      <th>id</th>\n",
       "      <th>name</th>\n",
       "      <th>category</th>\n",
       "      <th>description</th>\n",
       "      <th>city</th>\n",
       "      <th>city_category</th>\n",
       "    </tr>\n",
       "  </thead>\n",
       "  <tbody>\n",
       "    <tr>\n",
       "      <th>0</th>\n",
       "      <td>179</td>\n",
       "      <td>Candi Ratu Boko</td>\n",
       "      <td>Budaya</td>\n",
       "      <td>Situs Ratu Baka atau Candi Boko (Hanacaraka:ꦕꦤ...</td>\n",
       "      <td>Yogyakarta</td>\n",
       "      <td>Yogyakarta Budaya</td>\n",
       "    </tr>\n",
       "    <tr>\n",
       "      <th>1</th>\n",
       "      <td>344</td>\n",
       "      <td>Pantai Marina</td>\n",
       "      <td>Bahari</td>\n",
       "      <td>Pantai Marina (bahasa Jawa: ꦥꦱꦶꦱꦶꦂ​ꦩꦫꦶꦤ, trans...</td>\n",
       "      <td>Semarang</td>\n",
       "      <td>Semarang Bahari</td>\n",
       "    </tr>\n",
       "    <tr>\n",
       "      <th>2</th>\n",
       "      <td>5</td>\n",
       "      <td>Atlantis Water Adventure</td>\n",
       "      <td>Taman Hiburan</td>\n",
       "      <td>Atlantis Water Adventure atau dikenal dengan A...</td>\n",
       "      <td>Jakarta</td>\n",
       "      <td>Jakarta Taman Hiburan</td>\n",
       "    </tr>\n",
       "    <tr>\n",
       "      <th>3</th>\n",
       "      <td>373</td>\n",
       "      <td>Museum Kereta Ambarawa</td>\n",
       "      <td>Budaya</td>\n",
       "      <td>Museum Kereta Api Ambarawa (bahasa Inggris: In...</td>\n",
       "      <td>Semarang</td>\n",
       "      <td>Semarang Budaya</td>\n",
       "    </tr>\n",
       "    <tr>\n",
       "      <th>4</th>\n",
       "      <td>101</td>\n",
       "      <td>Kampung Wisata Sosro Menduran</td>\n",
       "      <td>Budaya</td>\n",
       "      <td>Kampung wisata Sosromenduran merupakan kampung...</td>\n",
       "      <td>Yogyakarta</td>\n",
       "      <td>Yogyakarta Budaya</td>\n",
       "    </tr>\n",
       "    <tr>\n",
       "      <th>...</th>\n",
       "      <td>...</td>\n",
       "      <td>...</td>\n",
       "      <td>...</td>\n",
       "      <td>...</td>\n",
       "      <td>...</td>\n",
       "      <td>...</td>\n",
       "    </tr>\n",
       "    <tr>\n",
       "      <th>432</th>\n",
       "      <td>370</td>\n",
       "      <td>Benteng Pendem</td>\n",
       "      <td>Budaya</td>\n",
       "      <td>Benteng Pendem Cilacap (bahasa Belanda: Kustba...</td>\n",
       "      <td>Semarang</td>\n",
       "      <td>Semarang Budaya</td>\n",
       "    </tr>\n",
       "    <tr>\n",
       "      <th>433</th>\n",
       "      <td>350</td>\n",
       "      <td>Pantai Cipta</td>\n",
       "      <td>Bahari</td>\n",
       "      <td>Pantai Cipta juga dikenal sebagai Pantai Petik...</td>\n",
       "      <td>Semarang</td>\n",
       "      <td>Semarang Bahari</td>\n",
       "    </tr>\n",
       "    <tr>\n",
       "      <th>434</th>\n",
       "      <td>10</td>\n",
       "      <td>Pulau Tidung</td>\n",
       "      <td>Bahari</td>\n",
       "      <td>Pulau Tidung adalah salah satu kelurahan di ke...</td>\n",
       "      <td>Jakarta</td>\n",
       "      <td>Jakarta Bahari</td>\n",
       "    </tr>\n",
       "    <tr>\n",
       "      <th>435</th>\n",
       "      <td>7</td>\n",
       "      <td>Kebun Binatang Ragunan</td>\n",
       "      <td>Cagar Alam</td>\n",
       "      <td>Kebun Binatang Ragunan adalah sebuah kebun bin...</td>\n",
       "      <td>Jakarta</td>\n",
       "      <td>Jakarta Cagar Alam</td>\n",
       "    </tr>\n",
       "    <tr>\n",
       "      <th>436</th>\n",
       "      <td>140</td>\n",
       "      <td>Bendung Lepen</td>\n",
       "      <td>Taman Hiburan</td>\n",
       "      <td>Bendung Lepen sendiri dulunya merupakan salura...</td>\n",
       "      <td>Yogyakarta</td>\n",
       "      <td>Yogyakarta Taman Hiburan</td>\n",
       "    </tr>\n",
       "  </tbody>\n",
       "</table>\n",
       "<p>437 rows × 6 columns</p>\n",
       "</div>"
      ],
      "text/plain": [
       "      id                           name       category  \\\n",
       "0    179                Candi Ratu Boko         Budaya   \n",
       "1    344                  Pantai Marina         Bahari   \n",
       "2      5       Atlantis Water Adventure  Taman Hiburan   \n",
       "3    373         Museum Kereta Ambarawa         Budaya   \n",
       "4    101  Kampung Wisata Sosro Menduran         Budaya   \n",
       "..   ...                            ...            ...   \n",
       "432  370                 Benteng Pendem         Budaya   \n",
       "433  350                   Pantai Cipta         Bahari   \n",
       "434   10                   Pulau Tidung         Bahari   \n",
       "435    7         Kebun Binatang Ragunan     Cagar Alam   \n",
       "436  140                  Bendung Lepen  Taman Hiburan   \n",
       "\n",
       "                                           description        city  \\\n",
       "0    Situs Ratu Baka atau Candi Boko (Hanacaraka:ꦕꦤ...  Yogyakarta   \n",
       "1    Pantai Marina (bahasa Jawa: ꦥꦱꦶꦱꦶꦂ​ꦩꦫꦶꦤ, trans...    Semarang   \n",
       "2    Atlantis Water Adventure atau dikenal dengan A...     Jakarta   \n",
       "3    Museum Kereta Api Ambarawa (bahasa Inggris: In...    Semarang   \n",
       "4    Kampung wisata Sosromenduran merupakan kampung...  Yogyakarta   \n",
       "..                                                 ...         ...   \n",
       "432  Benteng Pendem Cilacap (bahasa Belanda: Kustba...    Semarang   \n",
       "433  Pantai Cipta juga dikenal sebagai Pantai Petik...    Semarang   \n",
       "434  Pulau Tidung adalah salah satu kelurahan di ke...     Jakarta   \n",
       "435  Kebun Binatang Ragunan adalah sebuah kebun bin...     Jakarta   \n",
       "436  Bendung Lepen sendiri dulunya merupakan salura...  Yogyakarta   \n",
       "\n",
       "                city_category  \n",
       "0           Yogyakarta Budaya  \n",
       "1             Semarang Bahari  \n",
       "2       Jakarta Taman Hiburan  \n",
       "3             Semarang Budaya  \n",
       "4           Yogyakarta Budaya  \n",
       "..                        ...  \n",
       "432           Semarang Budaya  \n",
       "433           Semarang Bahari  \n",
       "434            Jakarta Bahari  \n",
       "435        Jakarta Cagar Alam  \n",
       "436  Yogyakarta Taman Hiburan  \n",
       "\n",
       "[437 rows x 6 columns]"
      ]
     },
     "execution_count": 21,
     "metadata": {},
     "output_type": "execute_result"
    }
   ],
   "source": [
    "tourism_new = pd.DataFrame({\n",
    "    \"id\":place_id,\n",
    "    \"name\":place_name,\n",
    "    \"category\":place_category,\n",
    "    \"description\":place_desc,\n",
    "    \"city\":place_city,\n",
    "    \"city_category\":city_category\n",
    "})\n",
    "\n",
    "tourism_new"
   ]
  },
  {
   "cell_type": "markdown",
   "id": "5eb9b08b",
   "metadata": {
    "papermill": {
     "duration": 0.012535,
     "end_time": "2022-10-01T16:35:02.148742",
     "exception": false,
     "start_time": "2022-10-01T16:35:02.136207",
     "status": "completed"
    },
    "tags": []
   },
   "source": [
    "# Content Based Filtering"
   ]
  },
  {
   "cell_type": "code",
   "execution_count": 22,
   "id": "9fef07f1",
   "metadata": {
    "execution": {
     "iopub.execute_input": "2022-10-01T16:35:02.175929Z",
     "iopub.status.busy": "2022-10-01T16:35:02.175061Z",
     "iopub.status.idle": "2022-10-01T16:35:02.186102Z",
     "shell.execute_reply": "2022-10-01T16:35:02.185165Z"
    },
    "papermill": {
     "duration": 0.026452,
     "end_time": "2022-10-01T16:35:02.187900",
     "exception": false,
     "start_time": "2022-10-01T16:35:02.161448",
     "status": "completed"
    },
    "tags": []
   },
   "outputs": [
    {
     "data": {
      "text/html": [
       "<div>\n",
       "<style scoped>\n",
       "    .dataframe tbody tr th:only-of-type {\n",
       "        vertical-align: middle;\n",
       "    }\n",
       "\n",
       "    .dataframe tbody tr th {\n",
       "        vertical-align: top;\n",
       "    }\n",
       "\n",
       "    .dataframe thead th {\n",
       "        text-align: right;\n",
       "    }\n",
       "</style>\n",
       "<table border=\"1\" class=\"dataframe\">\n",
       "  <thead>\n",
       "    <tr style=\"text-align: right;\">\n",
       "      <th></th>\n",
       "      <th>id</th>\n",
       "      <th>name</th>\n",
       "      <th>category</th>\n",
       "      <th>description</th>\n",
       "      <th>city</th>\n",
       "      <th>city_category</th>\n",
       "    </tr>\n",
       "  </thead>\n",
       "  <tbody>\n",
       "    <tr>\n",
       "      <th>271</th>\n",
       "      <td>252</td>\n",
       "      <td>Kampoeng Tulip</td>\n",
       "      <td>Taman Hiburan</td>\n",
       "      <td>Kampoeng Tulip ialah salah satu objek wisata d...</td>\n",
       "      <td>Bandung</td>\n",
       "      <td>Bandung Taman Hiburan</td>\n",
       "    </tr>\n",
       "    <tr>\n",
       "      <th>376</th>\n",
       "      <td>110</td>\n",
       "      <td>Monumen Serangan Umum 1 Maret</td>\n",
       "      <td>Taman Hiburan</td>\n",
       "      <td>Monumen Serangan Umum 1 Maret berada di area s...</td>\n",
       "      <td>Yogyakarta</td>\n",
       "      <td>Yogyakarta Taman Hiburan</td>\n",
       "    </tr>\n",
       "    <tr>\n",
       "      <th>276</th>\n",
       "      <td>270</td>\n",
       "      <td>Bukit Bintang</td>\n",
       "      <td>Cagar Alam</td>\n",
       "      <td>Bukit Bintang (Melayu [bu.ket̚ bi.ntaŋ]; diseb...</td>\n",
       "      <td>Bandung</td>\n",
       "      <td>Bandung Cagar Alam</td>\n",
       "    </tr>\n",
       "    <tr>\n",
       "      <th>434</th>\n",
       "      <td>10</td>\n",
       "      <td>Pulau Tidung</td>\n",
       "      <td>Bahari</td>\n",
       "      <td>Pulau Tidung adalah salah satu kelurahan di ke...</td>\n",
       "      <td>Jakarta</td>\n",
       "      <td>Jakarta Bahari</td>\n",
       "    </tr>\n",
       "    <tr>\n",
       "      <th>374</th>\n",
       "      <td>364</td>\n",
       "      <td>Water Blaster Bukit Candi Golf</td>\n",
       "      <td>Taman Hiburan</td>\n",
       "      <td>Buat kamu yang bingung mau rekreasi kemana di ...</td>\n",
       "      <td>Semarang</td>\n",
       "      <td>Semarang Taman Hiburan</td>\n",
       "    </tr>\n",
       "  </tbody>\n",
       "</table>\n",
       "</div>"
      ],
      "text/plain": [
       "      id                            name       category  \\\n",
       "271  252                  Kampoeng Tulip  Taman Hiburan   \n",
       "376  110   Monumen Serangan Umum 1 Maret  Taman Hiburan   \n",
       "276  270                   Bukit Bintang     Cagar Alam   \n",
       "434   10                    Pulau Tidung         Bahari   \n",
       "374  364  Water Blaster Bukit Candi Golf  Taman Hiburan   \n",
       "\n",
       "                                           description        city  \\\n",
       "271  Kampoeng Tulip ialah salah satu objek wisata d...     Bandung   \n",
       "376  Monumen Serangan Umum 1 Maret berada di area s...  Yogyakarta   \n",
       "276  Bukit Bintang (Melayu [bu.ket̚ bi.ntaŋ]; diseb...     Bandung   \n",
       "434  Pulau Tidung adalah salah satu kelurahan di ke...     Jakarta   \n",
       "374  Buat kamu yang bingung mau rekreasi kemana di ...    Semarang   \n",
       "\n",
       "                city_category  \n",
       "271     Bandung Taman Hiburan  \n",
       "376  Yogyakarta Taman Hiburan  \n",
       "276        Bandung Cagar Alam  \n",
       "434            Jakarta Bahari  \n",
       "374    Semarang Taman Hiburan  "
      ]
     },
     "execution_count": 22,
     "metadata": {},
     "output_type": "execute_result"
    }
   ],
   "source": [
    "data = tourism_new\n",
    "data.sample(5)"
   ]
  },
  {
   "cell_type": "markdown",
   "id": "e3829036",
   "metadata": {
    "papermill": {
     "duration": 0.013043,
     "end_time": "2022-10-01T16:35:02.213899",
     "exception": false,
     "start_time": "2022-10-01T16:35:02.200856",
     "status": "completed"
    },
    "tags": []
   },
   "source": [
    "## TF-IDF Vectorizer"
   ]
  },
  {
   "cell_type": "code",
   "execution_count": 23,
   "id": "71c08708",
   "metadata": {
    "execution": {
     "iopub.execute_input": "2022-10-01T16:35:02.241310Z",
     "iopub.status.busy": "2022-10-01T16:35:02.240563Z",
     "iopub.status.idle": "2022-10-01T16:35:03.077698Z",
     "shell.execute_reply": "2022-10-01T16:35:03.075691Z"
    },
    "papermill": {
     "duration": 0.853002,
     "end_time": "2022-10-01T16:35:03.080007",
     "exception": false,
     "start_time": "2022-10-01T16:35:02.227005",
     "status": "completed"
    },
    "tags": []
   },
   "outputs": [
    {
     "name": "stdout",
     "output_type": "stream",
     "text": [
      "Features Name:  ['yogyakarta', 'budaya', 'semarang', 'bahari', 'jakarta', 'taman', 'hiburan', 'bandung', 'cagar', 'alam', 'surabaya', 'pusat', 'perbelanjaan', 'tempat', 'ibadah']\n"
     ]
    }
   ],
   "source": [
    "from sklearn.feature_extraction.text import CountVectorizer\n",
    "\n",
    "cv = CountVectorizer()\n",
    "\n",
    "cv.fit(data['city_category'])\n",
    "\n",
    "print(\"Features Name: \", list(cv.vocabulary_.keys()))"
   ]
  },
  {
   "cell_type": "code",
   "execution_count": 24,
   "id": "27b692cf",
   "metadata": {
    "execution": {
     "iopub.execute_input": "2022-10-01T16:35:03.108718Z",
     "iopub.status.busy": "2022-10-01T16:35:03.107856Z",
     "iopub.status.idle": "2022-10-01T16:35:03.116536Z",
     "shell.execute_reply": "2022-10-01T16:35:03.115527Z"
    },
    "papermill": {
     "duration": 0.025141,
     "end_time": "2022-10-01T16:35:03.118482",
     "exception": false,
     "start_time": "2022-10-01T16:35:03.093341",
     "status": "completed"
    },
    "tags": []
   },
   "outputs": [
    {
     "data": {
      "text/plain": [
       "(437, 15)"
      ]
     },
     "execution_count": 24,
     "metadata": {},
     "output_type": "execute_result"
    }
   ],
   "source": [
    "cv_matrix = cv.transform(data['city_category']) \n",
    " \n",
    "cv_matrix.shape "
   ]
  },
  {
   "cell_type": "code",
   "execution_count": 25,
   "id": "5198dbc1",
   "metadata": {
    "execution": {
     "iopub.execute_input": "2022-10-01T16:35:03.146145Z",
     "iopub.status.busy": "2022-10-01T16:35:03.145396Z",
     "iopub.status.idle": "2022-10-01T16:35:03.152625Z",
     "shell.execute_reply": "2022-10-01T16:35:03.151705Z"
    },
    "papermill": {
     "duration": 0.022959,
     "end_time": "2022-10-01T16:35:03.154539",
     "exception": false,
     "start_time": "2022-10-01T16:35:03.131580",
     "status": "completed"
    },
    "tags": []
   },
   "outputs": [
    {
     "data": {
      "text/plain": [
       "matrix([[0, 0, 0, ..., 0, 0, 1],\n",
       "        [0, 1, 0, ..., 0, 0, 0],\n",
       "        [0, 0, 0, ..., 1, 0, 0],\n",
       "        ...,\n",
       "        [0, 1, 0, ..., 0, 0, 0],\n",
       "        [1, 0, 0, ..., 0, 0, 0],\n",
       "        [0, 0, 0, ..., 1, 0, 1]])"
      ]
     },
     "execution_count": 25,
     "metadata": {},
     "output_type": "execute_result"
    }
   ],
   "source": [
    "cv_matrix.todense()"
   ]
  },
  {
   "cell_type": "code",
   "execution_count": 26,
   "id": "7c68a604",
   "metadata": {
    "execution": {
     "iopub.execute_input": "2022-10-01T16:35:03.182307Z",
     "iopub.status.busy": "2022-10-01T16:35:03.181440Z",
     "iopub.status.idle": "2022-10-01T16:35:03.195612Z",
     "shell.execute_reply": "2022-10-01T16:35:03.194600Z"
    },
    "papermill": {
     "duration": 0.030048,
     "end_time": "2022-10-01T16:35:03.197632",
     "exception": false,
     "start_time": "2022-10-01T16:35:03.167584",
     "status": "completed"
    },
    "tags": []
   },
   "outputs": [
    {
     "data": {
      "text/html": [
       "<div>\n",
       "<style scoped>\n",
       "    .dataframe tbody tr th:only-of-type {\n",
       "        vertical-align: middle;\n",
       "    }\n",
       "\n",
       "    .dataframe tbody tr th {\n",
       "        vertical-align: top;\n",
       "    }\n",
       "\n",
       "    .dataframe thead th {\n",
       "        text-align: right;\n",
       "    }\n",
       "</style>\n",
       "<table border=\"1\" class=\"dataframe\">\n",
       "  <thead>\n",
       "    <tr style=\"text-align: right;\">\n",
       "      <th></th>\n",
       "      <th>yogyakarta</th>\n",
       "      <th>budaya</th>\n",
       "      <th>semarang</th>\n",
       "      <th>bahari</th>\n",
       "      <th>jakarta</th>\n",
       "      <th>taman</th>\n",
       "      <th>hiburan</th>\n",
       "      <th>bandung</th>\n",
       "      <th>cagar</th>\n",
       "      <th>alam</th>\n",
       "      <th>surabaya</th>\n",
       "      <th>pusat</th>\n",
       "      <th>perbelanjaan</th>\n",
       "      <th>tempat</th>\n",
       "      <th>ibadah</th>\n",
       "    </tr>\n",
       "    <tr>\n",
       "      <th>name</th>\n",
       "      <th></th>\n",
       "      <th></th>\n",
       "      <th></th>\n",
       "      <th></th>\n",
       "      <th></th>\n",
       "      <th></th>\n",
       "      <th></th>\n",
       "      <th></th>\n",
       "      <th></th>\n",
       "      <th></th>\n",
       "      <th></th>\n",
       "      <th></th>\n",
       "      <th></th>\n",
       "      <th></th>\n",
       "      <th></th>\n",
       "    </tr>\n",
       "  </thead>\n",
       "  <tbody>\n",
       "    <tr>\n",
       "      <th>Farm House Susu Lembang</th>\n",
       "      <td>0</td>\n",
       "      <td>0</td>\n",
       "      <td>1</td>\n",
       "      <td>0</td>\n",
       "      <td>0</td>\n",
       "      <td>1</td>\n",
       "      <td>0</td>\n",
       "      <td>0</td>\n",
       "      <td>0</td>\n",
       "      <td>0</td>\n",
       "      <td>0</td>\n",
       "      <td>0</td>\n",
       "      <td>1</td>\n",
       "      <td>0</td>\n",
       "      <td>0</td>\n",
       "    </tr>\n",
       "    <tr>\n",
       "      <th>Bumi Perkemahan Cibubur</th>\n",
       "      <td>0</td>\n",
       "      <td>0</td>\n",
       "      <td>0</td>\n",
       "      <td>0</td>\n",
       "      <td>0</td>\n",
       "      <td>1</td>\n",
       "      <td>0</td>\n",
       "      <td>1</td>\n",
       "      <td>0</td>\n",
       "      <td>0</td>\n",
       "      <td>0</td>\n",
       "      <td>0</td>\n",
       "      <td>1</td>\n",
       "      <td>0</td>\n",
       "      <td>0</td>\n",
       "    </tr>\n",
       "    <tr>\n",
       "      <th>Waterpark Kenjeran Surabaya</th>\n",
       "      <td>0</td>\n",
       "      <td>0</td>\n",
       "      <td>0</td>\n",
       "      <td>0</td>\n",
       "      <td>0</td>\n",
       "      <td>1</td>\n",
       "      <td>0</td>\n",
       "      <td>0</td>\n",
       "      <td>0</td>\n",
       "      <td>0</td>\n",
       "      <td>0</td>\n",
       "      <td>1</td>\n",
       "      <td>1</td>\n",
       "      <td>0</td>\n",
       "      <td>0</td>\n",
       "    </tr>\n",
       "    <tr>\n",
       "      <th>Patung Buddha Empat Rupa</th>\n",
       "      <td>0</td>\n",
       "      <td>0</td>\n",
       "      <td>0</td>\n",
       "      <td>1</td>\n",
       "      <td>0</td>\n",
       "      <td>0</td>\n",
       "      <td>0</td>\n",
       "      <td>0</td>\n",
       "      <td>0</td>\n",
       "      <td>0</td>\n",
       "      <td>0</td>\n",
       "      <td>1</td>\n",
       "      <td>0</td>\n",
       "      <td>0</td>\n",
       "      <td>0</td>\n",
       "    </tr>\n",
       "    <tr>\n",
       "      <th>Semarang Chinatown</th>\n",
       "      <td>0</td>\n",
       "      <td>0</td>\n",
       "      <td>0</td>\n",
       "      <td>1</td>\n",
       "      <td>0</td>\n",
       "      <td>0</td>\n",
       "      <td>0</td>\n",
       "      <td>0</td>\n",
       "      <td>0</td>\n",
       "      <td>0</td>\n",
       "      <td>1</td>\n",
       "      <td>0</td>\n",
       "      <td>0</td>\n",
       "      <td>0</td>\n",
       "      <td>0</td>\n",
       "    </tr>\n",
       "  </tbody>\n",
       "</table>\n",
       "</div>"
      ],
      "text/plain": [
       "                             yogyakarta  budaya  semarang  bahari  jakarta  \\\n",
       "name                                                                         \n",
       "Farm House Susu Lembang               0       0         1       0        0   \n",
       "Bumi Perkemahan Cibubur               0       0         0       0        0   \n",
       "Waterpark Kenjeran Surabaya           0       0         0       0        0   \n",
       "Patung Buddha Empat Rupa              0       0         0       1        0   \n",
       "Semarang Chinatown                    0       0         0       1        0   \n",
       "\n",
       "                             taman  hiburan  bandung  cagar  alam  surabaya  \\\n",
       "name                                                                          \n",
       "Farm House Susu Lembang          1        0        0      0     0         0   \n",
       "Bumi Perkemahan Cibubur          1        0        1      0     0         0   \n",
       "Waterpark Kenjeran Surabaya      1        0        0      0     0         0   \n",
       "Patung Buddha Empat Rupa         0        0        0      0     0         0   \n",
       "Semarang Chinatown               0        0        0      0     0         1   \n",
       "\n",
       "                             pusat  perbelanjaan  tempat  ibadah  \n",
       "name                                                              \n",
       "Farm House Susu Lembang          0             1       0       0  \n",
       "Bumi Perkemahan Cibubur          0             1       0       0  \n",
       "Waterpark Kenjeran Surabaya      1             1       0       0  \n",
       "Patung Buddha Empat Rupa         1             0       0       0  \n",
       "Semarang Chinatown               0             0       0       0  "
      ]
     },
     "execution_count": 26,
     "metadata": {},
     "output_type": "execute_result"
    }
   ],
   "source": [
    "pd.DataFrame(\n",
    "    cv_matrix.todense(),\n",
    "    columns=list(cv.vocabulary_.keys()),\n",
    "    index = data.name\n",
    ").sample(5)"
   ]
  },
  {
   "cell_type": "markdown",
   "id": "60729b26",
   "metadata": {
    "papermill": {
     "duration": 0.013237,
     "end_time": "2022-10-01T16:35:03.224392",
     "exception": false,
     "start_time": "2022-10-01T16:35:03.211155",
     "status": "completed"
    },
    "tags": []
   },
   "source": [
    "## Cosine Similarity"
   ]
  },
  {
   "cell_type": "code",
   "execution_count": 27,
   "id": "d9033b47",
   "metadata": {
    "execution": {
     "iopub.execute_input": "2022-10-01T16:35:03.252489Z",
     "iopub.status.busy": "2022-10-01T16:35:03.251859Z",
     "iopub.status.idle": "2022-10-01T16:35:03.299273Z",
     "shell.execute_reply": "2022-10-01T16:35:03.298317Z"
    },
    "papermill": {
     "duration": 0.063584,
     "end_time": "2022-10-01T16:35:03.301278",
     "exception": false,
     "start_time": "2022-10-01T16:35:03.237694",
     "status": "completed"
    },
    "tags": []
   },
   "outputs": [
    {
     "data": {
      "text/plain": [
       "array([[1.        , 0.        , 0.        , ..., 0.        , 0.        ,\n",
       "        0.40824829],\n",
       "       [0.        , 1.        , 0.        , ..., 0.5       , 0.        ,\n",
       "        0.        ],\n",
       "       [0.        , 0.        , 1.        , ..., 0.40824829, 0.33333333,\n",
       "        0.66666667],\n",
       "       ...,\n",
       "       [0.        , 0.5       , 0.40824829, ..., 1.        , 0.40824829,\n",
       "        0.        ],\n",
       "       [0.        , 0.        , 0.33333333, ..., 0.40824829, 1.        ,\n",
       "        0.        ],\n",
       "       [0.40824829, 0.        , 0.66666667, ..., 0.        , 0.        ,\n",
       "        1.        ]])"
      ]
     },
     "execution_count": 27,
     "metadata": {},
     "output_type": "execute_result"
    }
   ],
   "source": [
    "from sklearn.metrics.pairwise import cosine_similarity\n",
    "\n",
    "cosine_sim = cosine_similarity(cv_matrix)\n",
    "cosine_sim"
   ]
  },
  {
   "cell_type": "code",
   "execution_count": 28,
   "id": "e0bb9af4",
   "metadata": {
    "execution": {
     "iopub.execute_input": "2022-10-01T16:35:03.329762Z",
     "iopub.status.busy": "2022-10-01T16:35:03.329045Z",
     "iopub.status.idle": "2022-10-01T16:35:03.342995Z",
     "shell.execute_reply": "2022-10-01T16:35:03.342088Z"
    },
    "papermill": {
     "duration": 0.030102,
     "end_time": "2022-10-01T16:35:03.344898",
     "exception": false,
     "start_time": "2022-10-01T16:35:03.314796",
     "status": "completed"
    },
    "tags": []
   },
   "outputs": [
    {
     "data": {
      "text/html": [
       "<div>\n",
       "<style scoped>\n",
       "    .dataframe tbody tr th:only-of-type {\n",
       "        vertical-align: middle;\n",
       "    }\n",
       "\n",
       "    .dataframe tbody tr th {\n",
       "        vertical-align: top;\n",
       "    }\n",
       "\n",
       "    .dataframe thead th {\n",
       "        text-align: right;\n",
       "    }\n",
       "</style>\n",
       "<table border=\"1\" class=\"dataframe\">\n",
       "  <thead>\n",
       "    <tr style=\"text-align: right;\">\n",
       "      <th>name</th>\n",
       "      <th>Benteng Pendem</th>\n",
       "      <th>Museum TNI AL Loka Jala Crana</th>\n",
       "      <th>Kawasan Malioboro</th>\n",
       "      <th>Pulau Bidadari</th>\n",
       "      <th>Pasar Beringharjo</th>\n",
       "    </tr>\n",
       "    <tr>\n",
       "      <th>name</th>\n",
       "      <th></th>\n",
       "      <th></th>\n",
       "      <th></th>\n",
       "      <th></th>\n",
       "      <th></th>\n",
       "    </tr>\n",
       "  </thead>\n",
       "  <tbody>\n",
       "    <tr>\n",
       "      <th>Wisata Kampung Krisan Clapar</th>\n",
       "      <td>0.408248</td>\n",
       "      <td>0.0</td>\n",
       "      <td>0.666667</td>\n",
       "      <td>0.000000</td>\n",
       "      <td>0.000000</td>\n",
       "    </tr>\n",
       "    <tr>\n",
       "      <th>Jembatan Kota Intan</th>\n",
       "      <td>0.500000</td>\n",
       "      <td>0.5</td>\n",
       "      <td>0.000000</td>\n",
       "      <td>0.500000</td>\n",
       "      <td>0.000000</td>\n",
       "    </tr>\n",
       "    <tr>\n",
       "      <th>Taman Legenda Keong Emas</th>\n",
       "      <td>0.000000</td>\n",
       "      <td>0.0</td>\n",
       "      <td>0.666667</td>\n",
       "      <td>0.408248</td>\n",
       "      <td>0.000000</td>\n",
       "    </tr>\n",
       "    <tr>\n",
       "      <th>Waterboom PIK (Pantai Indah Kapuk)</th>\n",
       "      <td>0.000000</td>\n",
       "      <td>0.0</td>\n",
       "      <td>0.666667</td>\n",
       "      <td>0.408248</td>\n",
       "      <td>0.000000</td>\n",
       "    </tr>\n",
       "    <tr>\n",
       "      <th>Candi Gedong Songo</th>\n",
       "      <td>1.000000</td>\n",
       "      <td>0.5</td>\n",
       "      <td>0.000000</td>\n",
       "      <td>0.000000</td>\n",
       "      <td>0.000000</td>\n",
       "    </tr>\n",
       "    <tr>\n",
       "      <th>Rumah Batik</th>\n",
       "      <td>0.500000</td>\n",
       "      <td>1.0</td>\n",
       "      <td>0.000000</td>\n",
       "      <td>0.000000</td>\n",
       "      <td>0.000000</td>\n",
       "    </tr>\n",
       "    <tr>\n",
       "      <th>Pantai Baruna</th>\n",
       "      <td>0.500000</td>\n",
       "      <td>0.0</td>\n",
       "      <td>0.000000</td>\n",
       "      <td>0.500000</td>\n",
       "      <td>0.000000</td>\n",
       "    </tr>\n",
       "    <tr>\n",
       "      <th>Pantai Cipta</th>\n",
       "      <td>0.500000</td>\n",
       "      <td>0.0</td>\n",
       "      <td>0.000000</td>\n",
       "      <td>0.500000</td>\n",
       "      <td>0.000000</td>\n",
       "    </tr>\n",
       "    <tr>\n",
       "      <th>Sumur Gumuling</th>\n",
       "      <td>0.000000</td>\n",
       "      <td>0.0</td>\n",
       "      <td>1.000000</td>\n",
       "      <td>0.000000</td>\n",
       "      <td>0.333333</td>\n",
       "    </tr>\n",
       "    <tr>\n",
       "      <th>Bumi Perkemahan Cibubur</th>\n",
       "      <td>0.000000</td>\n",
       "      <td>0.0</td>\n",
       "      <td>0.666667</td>\n",
       "      <td>0.408248</td>\n",
       "      <td>0.000000</td>\n",
       "    </tr>\n",
       "  </tbody>\n",
       "</table>\n",
       "</div>"
      ],
      "text/plain": [
       "name                                Benteng Pendem  \\\n",
       "name                                                 \n",
       "Wisata Kampung Krisan Clapar              0.408248   \n",
       "Jembatan Kota Intan                       0.500000   \n",
       "Taman Legenda Keong Emas                  0.000000   \n",
       "Waterboom PIK (Pantai Indah Kapuk)        0.000000   \n",
       "Candi Gedong Songo                        1.000000   \n",
       "Rumah Batik                               0.500000   \n",
       "Pantai Baruna                             0.500000   \n",
       "Pantai Cipta                              0.500000   \n",
       "Sumur Gumuling                            0.000000   \n",
       "Bumi Perkemahan Cibubur                   0.000000   \n",
       "\n",
       "name                                Museum TNI AL Loka Jala Crana  \\\n",
       "name                                                                \n",
       "Wisata Kampung Krisan Clapar                                  0.0   \n",
       "Jembatan Kota Intan                                           0.5   \n",
       "Taman Legenda Keong Emas                                      0.0   \n",
       "Waterboom PIK (Pantai Indah Kapuk)                            0.0   \n",
       "Candi Gedong Songo                                            0.5   \n",
       "Rumah Batik                                                   1.0   \n",
       "Pantai Baruna                                                 0.0   \n",
       "Pantai Cipta                                                  0.0   \n",
       "Sumur Gumuling                                                0.0   \n",
       "Bumi Perkemahan Cibubur                                       0.0   \n",
       "\n",
       "name                                Kawasan Malioboro  Pulau Bidadari  \\\n",
       "name                                                                    \n",
       "Wisata Kampung Krisan Clapar                 0.666667        0.000000   \n",
       "Jembatan Kota Intan                          0.000000        0.500000   \n",
       "Taman Legenda Keong Emas                     0.666667        0.408248   \n",
       "Waterboom PIK (Pantai Indah Kapuk)           0.666667        0.408248   \n",
       "Candi Gedong Songo                           0.000000        0.000000   \n",
       "Rumah Batik                                  0.000000        0.000000   \n",
       "Pantai Baruna                                0.000000        0.500000   \n",
       "Pantai Cipta                                 0.000000        0.500000   \n",
       "Sumur Gumuling                               1.000000        0.000000   \n",
       "Bumi Perkemahan Cibubur                      0.666667        0.408248   \n",
       "\n",
       "name                                Pasar Beringharjo  \n",
       "name                                                   \n",
       "Wisata Kampung Krisan Clapar                 0.000000  \n",
       "Jembatan Kota Intan                          0.000000  \n",
       "Taman Legenda Keong Emas                     0.000000  \n",
       "Waterboom PIK (Pantai Indah Kapuk)           0.000000  \n",
       "Candi Gedong Songo                           0.000000  \n",
       "Rumah Batik                                  0.000000  \n",
       "Pantai Baruna                                0.000000  \n",
       "Pantai Cipta                                 0.000000  \n",
       "Sumur Gumuling                               0.333333  \n",
       "Bumi Perkemahan Cibubur                      0.000000  "
      ]
     },
     "execution_count": 28,
     "metadata": {},
     "output_type": "execute_result"
    }
   ],
   "source": [
    "cosine_sim_df = pd.DataFrame(cosine_sim,index=data['name'],columns=data['name'])\n",
    "cosine_sim_df.sample(5,axis=1).sample(10,axis=0)"
   ]
  },
  {
   "cell_type": "markdown",
   "id": "eea8640e",
   "metadata": {
    "papermill": {
     "duration": 0.013471,
     "end_time": "2022-10-01T16:35:03.374154",
     "exception": false,
     "start_time": "2022-10-01T16:35:03.360683",
     "status": "completed"
    },
    "tags": []
   },
   "source": [
    "## Recommendation"
   ]
  },
  {
   "cell_type": "code",
   "execution_count": 29,
   "id": "55cb87d1",
   "metadata": {
    "execution": {
     "iopub.execute_input": "2022-10-01T16:35:03.403214Z",
     "iopub.status.busy": "2022-10-01T16:35:03.402471Z",
     "iopub.status.idle": "2022-10-01T16:35:03.409096Z",
     "shell.execute_reply": "2022-10-01T16:35:03.408270Z"
    },
    "papermill": {
     "duration": 0.023059,
     "end_time": "2022-10-01T16:35:03.410960",
     "exception": false,
     "start_time": "2022-10-01T16:35:03.387901",
     "status": "completed"
    },
    "tags": []
   },
   "outputs": [],
   "source": [
    "def tourism_recommendations(place_name,similarity_data=cosine_sim_df,items=data[['name','category','description','city']],k=5):\n",
    "    index = similarity_data.loc[:,place_name].to_numpy().argpartition(range(-1,-k,-1))\n",
    "    \n",
    "    closest = similarity_data.columns[index[-1:-(k+2):-1]]\n",
    "    \n",
    "    closest = closest.drop(place_name,errors='ignore')\n",
    "    \n",
    "    return pd.DataFrame(closest).merge(items).head(k)"
   ]
  },
  {
   "cell_type": "code",
   "execution_count": 30,
   "id": "37034ad3",
   "metadata": {
    "execution": {
     "iopub.execute_input": "2022-10-01T16:35:03.439757Z",
     "iopub.status.busy": "2022-10-01T16:35:03.438941Z",
     "iopub.status.idle": "2022-10-01T16:35:03.454058Z",
     "shell.execute_reply": "2022-10-01T16:35:03.453133Z"
    },
    "papermill": {
     "duration": 0.031422,
     "end_time": "2022-10-01T16:35:03.455982",
     "exception": false,
     "start_time": "2022-10-01T16:35:03.424560",
     "status": "completed"
    },
    "tags": []
   },
   "outputs": [
    {
     "data": {
      "text/html": [
       "<div>\n",
       "<style scoped>\n",
       "    .dataframe tbody tr th:only-of-type {\n",
       "        vertical-align: middle;\n",
       "    }\n",
       "\n",
       "    .dataframe tbody tr th {\n",
       "        vertical-align: top;\n",
       "    }\n",
       "\n",
       "    .dataframe thead th {\n",
       "        text-align: right;\n",
       "    }\n",
       "</style>\n",
       "<table border=\"1\" class=\"dataframe\">\n",
       "  <thead>\n",
       "    <tr style=\"text-align: right;\">\n",
       "      <th></th>\n",
       "      <th>name</th>\n",
       "      <th>category</th>\n",
       "      <th>description</th>\n",
       "      <th>city</th>\n",
       "    </tr>\n",
       "  </thead>\n",
       "  <tbody>\n",
       "    <tr>\n",
       "      <th>0</th>\n",
       "      <td>Taman Prestasi</td>\n",
       "      <td>Taman Hiburan</td>\n",
       "      <td>Taman Prestasi Surabaya merupakan salah satu t...</td>\n",
       "      <td>Surabaya</td>\n",
       "    </tr>\n",
       "    <tr>\n",
       "      <th>1</th>\n",
       "      <td>Taman Pelangi</td>\n",
       "      <td>Taman Hiburan</td>\n",
       "      <td>Kalau pelangi biasanya ada di siang hari pasca...</td>\n",
       "      <td>Surabaya</td>\n",
       "    </tr>\n",
       "    <tr>\n",
       "      <th>2</th>\n",
       "      <td>Atlantis Land Surabaya</td>\n",
       "      <td>Taman Hiburan</td>\n",
       "      <td>Sejak diresmikan pada bulan Desember 2017, Atl...</td>\n",
       "      <td>Surabaya</td>\n",
       "    </tr>\n",
       "    <tr>\n",
       "      <th>3</th>\n",
       "      <td>Taman Buah Surabaya</td>\n",
       "      <td>Taman Hiburan</td>\n",
       "      <td>Wisata Taman Buah Undaan di Surabaya adalah sa...</td>\n",
       "      <td>Surabaya</td>\n",
       "    </tr>\n",
       "    <tr>\n",
       "      <th>4</th>\n",
       "      <td>Taman Keputran</td>\n",
       "      <td>Taman Hiburan</td>\n",
       "      <td>Ntah, mengapa nama taman ini disebut dengan ta...</td>\n",
       "      <td>Surabaya</td>\n",
       "    </tr>\n",
       "  </tbody>\n",
       "</table>\n",
       "</div>"
      ],
      "text/plain": [
       "                     name       category  \\\n",
       "0          Taman Prestasi  Taman Hiburan   \n",
       "1           Taman Pelangi  Taman Hiburan   \n",
       "2  Atlantis Land Surabaya  Taman Hiburan   \n",
       "3     Taman Buah Surabaya  Taman Hiburan   \n",
       "4          Taman Keputran  Taman Hiburan   \n",
       "\n",
       "                                         description      city  \n",
       "0  Taman Prestasi Surabaya merupakan salah satu t...  Surabaya  \n",
       "1  Kalau pelangi biasanya ada di siang hari pasca...  Surabaya  \n",
       "2  Sejak diresmikan pada bulan Desember 2017, Atl...  Surabaya  \n",
       "3  Wisata Taman Buah Undaan di Surabaya adalah sa...  Surabaya  \n",
       "4  Ntah, mengapa nama taman ini disebut dengan ta...  Surabaya  "
      ]
     },
     "execution_count": 30,
     "metadata": {},
     "output_type": "execute_result"
    }
   ],
   "source": [
    "tourism_recommendations(\"Air Mancur Menari\")"
   ]
  },
  {
   "cell_type": "code",
   "execution_count": 31,
   "id": "542853e7",
   "metadata": {
    "execution": {
     "iopub.execute_input": "2022-10-01T16:35:03.485614Z",
     "iopub.status.busy": "2022-10-01T16:35:03.484802Z",
     "iopub.status.idle": "2022-10-01T16:35:03.496824Z",
     "shell.execute_reply": "2022-10-01T16:35:03.495912Z"
    },
    "papermill": {
     "duration": 0.02881,
     "end_time": "2022-10-01T16:35:03.498828",
     "exception": false,
     "start_time": "2022-10-01T16:35:03.470018",
     "status": "completed"
    },
    "tags": []
   },
   "outputs": [
    {
     "data": {
      "text/html": [
       "<div>\n",
       "<style scoped>\n",
       "    .dataframe tbody tr th:only-of-type {\n",
       "        vertical-align: middle;\n",
       "    }\n",
       "\n",
       "    .dataframe tbody tr th {\n",
       "        vertical-align: top;\n",
       "    }\n",
       "\n",
       "    .dataframe thead th {\n",
       "        text-align: right;\n",
       "    }\n",
       "</style>\n",
       "<table border=\"1\" class=\"dataframe\">\n",
       "  <thead>\n",
       "    <tr style=\"text-align: right;\">\n",
       "      <th></th>\n",
       "      <th>name</th>\n",
       "      <th>category</th>\n",
       "      <th>description</th>\n",
       "      <th>city</th>\n",
       "    </tr>\n",
       "  </thead>\n",
       "  <tbody>\n",
       "    <tr>\n",
       "      <th>0</th>\n",
       "      <td>Puspa Iptek Sundial</td>\n",
       "      <td>Taman Hiburan</td>\n",
       "      <td>Puspa Iptek Sundial adalah wahana pendidikan y...</td>\n",
       "      <td>Bandung</td>\n",
       "    </tr>\n",
       "    <tr>\n",
       "      <th>1</th>\n",
       "      <td>Teras Cikapundung BBWS</td>\n",
       "      <td>Taman Hiburan</td>\n",
       "      <td>Teras Cikapundung Bandung sebelumnya merupakan...</td>\n",
       "      <td>Bandung</td>\n",
       "    </tr>\n",
       "    <tr>\n",
       "      <th>2</th>\n",
       "      <td>Chingu Cafe Little Seoul</td>\n",
       "      <td>Taman Hiburan</td>\n",
       "      <td>Selain populer karena memiliki pemandangan yan...</td>\n",
       "      <td>Bandung</td>\n",
       "    </tr>\n",
       "    <tr>\n",
       "      <th>3</th>\n",
       "      <td>Taman Badak</td>\n",
       "      <td>Taman Hiburan</td>\n",
       "      <td>Taman Badak ini baru saja diresmikan pada tang...</td>\n",
       "      <td>Bandung</td>\n",
       "    </tr>\n",
       "    <tr>\n",
       "      <th>4</th>\n",
       "      <td>NuArt Sculpture Park</td>\n",
       "      <td>Taman Hiburan</td>\n",
       "      <td>NuArt Sculpture Park ini merupakan sebuah gall...</td>\n",
       "      <td>Bandung</td>\n",
       "    </tr>\n",
       "  </tbody>\n",
       "</table>\n",
       "</div>"
      ],
      "text/plain": [
       "                       name       category  \\\n",
       "0       Puspa Iptek Sundial  Taman Hiburan   \n",
       "1    Teras Cikapundung BBWS  Taman Hiburan   \n",
       "2  Chingu Cafe Little Seoul  Taman Hiburan   \n",
       "3               Taman Badak  Taman Hiburan   \n",
       "4      NuArt Sculpture Park  Taman Hiburan   \n",
       "\n",
       "                                         description     city  \n",
       "0  Puspa Iptek Sundial adalah wahana pendidikan y...  Bandung  \n",
       "1  Teras Cikapundung Bandung sebelumnya merupakan...  Bandung  \n",
       "2  Selain populer karena memiliki pemandangan yan...  Bandung  \n",
       "3  Taman Badak ini baru saja diresmikan pada tang...  Bandung  \n",
       "4  NuArt Sculpture Park ini merupakan sebuah gall...  Bandung  "
      ]
     },
     "execution_count": 31,
     "metadata": {},
     "output_type": "execute_result"
    }
   ],
   "source": [
    "tourism_recommendations(\"Trans Studio Bandung\")"
   ]
  },
  {
   "cell_type": "markdown",
   "id": "4973b105",
   "metadata": {
    "papermill": {
     "duration": 0.015168,
     "end_time": "2022-10-01T16:35:03.527997",
     "exception": false,
     "start_time": "2022-10-01T16:35:03.512829",
     "status": "completed"
    },
    "tags": []
   },
   "source": [
    "# Collaborative Filtering"
   ]
  },
  {
   "cell_type": "code",
   "execution_count": 32,
   "id": "3e725327",
   "metadata": {
    "execution": {
     "iopub.execute_input": "2022-10-01T16:35:03.557062Z",
     "iopub.status.busy": "2022-10-01T16:35:03.556796Z",
     "iopub.status.idle": "2022-10-01T16:35:08.658622Z",
     "shell.execute_reply": "2022-10-01T16:35:08.657687Z"
    },
    "papermill": {
     "duration": 5.119033,
     "end_time": "2022-10-01T16:35:08.661043",
     "exception": false,
     "start_time": "2022-10-01T16:35:03.542010",
     "status": "completed"
    },
    "tags": []
   },
   "outputs": [],
   "source": [
    "import pandas as pd\n",
    "import numpy as np \n",
    "from zipfile import ZipFile\n",
    "import tensorflow as tf\n",
    "from tensorflow import keras\n",
    "from tensorflow.keras import layers\n",
    "from pathlib import Path\n",
    "import matplotlib.pyplot as plt"
   ]
  },
  {
   "cell_type": "code",
   "execution_count": 33,
   "id": "a6671c72",
   "metadata": {
    "execution": {
     "iopub.execute_input": "2022-10-01T16:35:08.691899Z",
     "iopub.status.busy": "2022-10-01T16:35:08.690667Z",
     "iopub.status.idle": "2022-10-01T16:35:08.702389Z",
     "shell.execute_reply": "2022-10-01T16:35:08.701553Z"
    },
    "papermill": {
     "duration": 0.028624,
     "end_time": "2022-10-01T16:35:08.704286",
     "exception": false,
     "start_time": "2022-10-01T16:35:08.675662",
     "status": "completed"
    },
    "tags": []
   },
   "outputs": [
    {
     "data": {
      "text/html": [
       "<div>\n",
       "<style scoped>\n",
       "    .dataframe tbody tr th:only-of-type {\n",
       "        vertical-align: middle;\n",
       "    }\n",
       "\n",
       "    .dataframe tbody tr th {\n",
       "        vertical-align: top;\n",
       "    }\n",
       "\n",
       "    .dataframe thead th {\n",
       "        text-align: right;\n",
       "    }\n",
       "</style>\n",
       "<table border=\"1\" class=\"dataframe\">\n",
       "  <thead>\n",
       "    <tr style=\"text-align: right;\">\n",
       "      <th></th>\n",
       "      <th>User_Id</th>\n",
       "      <th>Place_Id</th>\n",
       "      <th>Place_Ratings</th>\n",
       "    </tr>\n",
       "  </thead>\n",
       "  <tbody>\n",
       "    <tr>\n",
       "      <th>0</th>\n",
       "      <td>1</td>\n",
       "      <td>179</td>\n",
       "      <td>3</td>\n",
       "    </tr>\n",
       "    <tr>\n",
       "      <th>1</th>\n",
       "      <td>1</td>\n",
       "      <td>344</td>\n",
       "      <td>2</td>\n",
       "    </tr>\n",
       "    <tr>\n",
       "      <th>2</th>\n",
       "      <td>1</td>\n",
       "      <td>5</td>\n",
       "      <td>5</td>\n",
       "    </tr>\n",
       "    <tr>\n",
       "      <th>3</th>\n",
       "      <td>1</td>\n",
       "      <td>373</td>\n",
       "      <td>3</td>\n",
       "    </tr>\n",
       "    <tr>\n",
       "      <th>4</th>\n",
       "      <td>1</td>\n",
       "      <td>101</td>\n",
       "      <td>4</td>\n",
       "    </tr>\n",
       "    <tr>\n",
       "      <th>...</th>\n",
       "      <td>...</td>\n",
       "      <td>...</td>\n",
       "      <td>...</td>\n",
       "    </tr>\n",
       "    <tr>\n",
       "      <th>9995</th>\n",
       "      <td>300</td>\n",
       "      <td>425</td>\n",
       "      <td>2</td>\n",
       "    </tr>\n",
       "    <tr>\n",
       "      <th>9996</th>\n",
       "      <td>300</td>\n",
       "      <td>64</td>\n",
       "      <td>4</td>\n",
       "    </tr>\n",
       "    <tr>\n",
       "      <th>9997</th>\n",
       "      <td>300</td>\n",
       "      <td>311</td>\n",
       "      <td>3</td>\n",
       "    </tr>\n",
       "    <tr>\n",
       "      <th>9998</th>\n",
       "      <td>300</td>\n",
       "      <td>279</td>\n",
       "      <td>4</td>\n",
       "    </tr>\n",
       "    <tr>\n",
       "      <th>9999</th>\n",
       "      <td>300</td>\n",
       "      <td>163</td>\n",
       "      <td>2</td>\n",
       "    </tr>\n",
       "  </tbody>\n",
       "</table>\n",
       "<p>10000 rows × 3 columns</p>\n",
       "</div>"
      ],
      "text/plain": [
       "      User_Id  Place_Id  Place_Ratings\n",
       "0           1       179              3\n",
       "1           1       344              2\n",
       "2           1         5              5\n",
       "3           1       373              3\n",
       "4           1       101              4\n",
       "...       ...       ...            ...\n",
       "9995      300       425              2\n",
       "9996      300        64              4\n",
       "9997      300       311              3\n",
       "9998      300       279              4\n",
       "9999      300       163              2\n",
       "\n",
       "[10000 rows x 3 columns]"
      ]
     },
     "execution_count": 33,
     "metadata": {},
     "output_type": "execute_result"
    }
   ],
   "source": [
    "df = tourism_rating\n",
    "df"
   ]
  },
  {
   "cell_type": "markdown",
   "id": "cddd86d0",
   "metadata": {
    "papermill": {
     "duration": 0.014102,
     "end_time": "2022-10-01T16:35:08.732660",
     "exception": false,
     "start_time": "2022-10-01T16:35:08.718558",
     "status": "completed"
    },
    "tags": []
   },
   "source": [
    "## Data Preparation"
   ]
  },
  {
   "cell_type": "markdown",
   "id": "b66af654",
   "metadata": {
    "papermill": {
     "duration": 0.014014,
     "end_time": "2022-10-01T16:35:08.760999",
     "exception": false,
     "start_time": "2022-10-01T16:35:08.746985",
     "status": "completed"
    },
    "tags": []
   },
   "source": [
    "### Encode"
   ]
  },
  {
   "cell_type": "code",
   "execution_count": 34,
   "id": "b4091513",
   "metadata": {
    "execution": {
     "iopub.execute_input": "2022-10-01T16:35:08.790566Z",
     "iopub.status.busy": "2022-10-01T16:35:08.790303Z",
     "iopub.status.idle": "2022-10-01T16:35:08.796373Z",
     "shell.execute_reply": "2022-10-01T16:35:08.795599Z"
    },
    "papermill": {
     "duration": 0.023549,
     "end_time": "2022-10-01T16:35:08.798706",
     "exception": false,
     "start_time": "2022-10-01T16:35:08.775157",
     "status": "completed"
    },
    "tags": []
   },
   "outputs": [],
   "source": [
    "user_ids = df.User_Id.unique().tolist()\n",
    "\n",
    "user_to_user_encoded = {x:i for i, x in enumerate(user_ids)}\n",
    "\n",
    "user_encoded_to_user = {i: x for i, x in enumerate(user_ids)}"
   ]
  },
  {
   "cell_type": "code",
   "execution_count": 35,
   "id": "bfba291b",
   "metadata": {
    "execution": {
     "iopub.execute_input": "2022-10-01T16:35:08.827918Z",
     "iopub.status.busy": "2022-10-01T16:35:08.827648Z",
     "iopub.status.idle": "2022-10-01T16:35:08.833431Z",
     "shell.execute_reply": "2022-10-01T16:35:08.832631Z"
    },
    "papermill": {
     "duration": 0.022527,
     "end_time": "2022-10-01T16:35:08.835308",
     "exception": false,
     "start_time": "2022-10-01T16:35:08.812781",
     "status": "completed"
    },
    "tags": []
   },
   "outputs": [],
   "source": [
    "place_ids = df.Place_Id.unique().tolist()\n",
    "\n",
    "place_to_place_encoded = {x: i for i, x in enumerate(place_ids)}\n",
    "\n",
    "place_encoded_to_place = {x: i for x, i in enumerate(place_ids)}"
   ]
  },
  {
   "cell_type": "code",
   "execution_count": 36,
   "id": "8cc97e49",
   "metadata": {
    "execution": {
     "iopub.execute_input": "2022-10-01T16:35:08.864550Z",
     "iopub.status.busy": "2022-10-01T16:35:08.864296Z",
     "iopub.status.idle": "2022-10-01T16:35:08.871569Z",
     "shell.execute_reply": "2022-10-01T16:35:08.870771Z"
    },
    "papermill": {
     "duration": 0.024138,
     "end_time": "2022-10-01T16:35:08.873541",
     "exception": false,
     "start_time": "2022-10-01T16:35:08.849403",
     "status": "completed"
    },
    "tags": []
   },
   "outputs": [],
   "source": [
    "df['user'] = df.User_Id.map(user_to_user_encoded)\n",
    "\n",
    "df['place'] = df.Place_Id.map(place_to_place_encoded)"
   ]
  },
  {
   "cell_type": "code",
   "execution_count": 37,
   "id": "56b3f947",
   "metadata": {
    "execution": {
     "iopub.execute_input": "2022-10-01T16:35:08.903594Z",
     "iopub.status.busy": "2022-10-01T16:35:08.903322Z",
     "iopub.status.idle": "2022-10-01T16:35:08.912276Z",
     "shell.execute_reply": "2022-10-01T16:35:08.911275Z"
    },
    "papermill": {
     "duration": 0.026883,
     "end_time": "2022-10-01T16:35:08.914746",
     "exception": false,
     "start_time": "2022-10-01T16:35:08.887863",
     "status": "completed"
    },
    "tags": []
   },
   "outputs": [
    {
     "name": "stdout",
     "output_type": "stream",
     "text": [
      "Number of User: 300, Number of Place: 437, Min Rating: 1.0, Max Rating: 5.0\n"
     ]
    }
   ],
   "source": [
    "num_users = len(user_to_user_encoded)\n",
    "\n",
    "num_place = len(place_encoded_to_place)\n",
    "\n",
    "df['Place_Ratings'] = df['Place_Ratings'].values.astype(np.float32)\n",
    "\n",
    "min_rating = min(df['Place_Ratings'])\n",
    "\n",
    "max_rating= max(df['Place_Ratings'])\n",
    "\n",
    "print('Number of User: {}, Number of Place: {}, Min Rating: {}, Max Rating: {}'.format(\n",
    "    num_users, num_place, min_rating, max_rating\n",
    "))"
   ]
  },
  {
   "cell_type": "markdown",
   "id": "6c1cbfef",
   "metadata": {
    "papermill": {
     "duration": 0.01405,
     "end_time": "2022-10-01T16:35:08.943043",
     "exception": false,
     "start_time": "2022-10-01T16:35:08.928993",
     "status": "completed"
    },
    "tags": []
   },
   "source": [
    "## Train Test Split"
   ]
  },
  {
   "cell_type": "code",
   "execution_count": 38,
   "id": "a6b05bab",
   "metadata": {
    "execution": {
     "iopub.execute_input": "2022-10-01T16:35:08.973348Z",
     "iopub.status.busy": "2022-10-01T16:35:08.973070Z",
     "iopub.status.idle": "2022-10-01T16:35:08.988147Z",
     "shell.execute_reply": "2022-10-01T16:35:08.987063Z"
    },
    "papermill": {
     "duration": 0.032876,
     "end_time": "2022-10-01T16:35:08.990418",
     "exception": false,
     "start_time": "2022-10-01T16:35:08.957542",
     "status": "completed"
    },
    "tags": []
   },
   "outputs": [
    {
     "data": {
      "text/html": [
       "<div>\n",
       "<style scoped>\n",
       "    .dataframe tbody tr th:only-of-type {\n",
       "        vertical-align: middle;\n",
       "    }\n",
       "\n",
       "    .dataframe tbody tr th {\n",
       "        vertical-align: top;\n",
       "    }\n",
       "\n",
       "    .dataframe thead th {\n",
       "        text-align: right;\n",
       "    }\n",
       "</style>\n",
       "<table border=\"1\" class=\"dataframe\">\n",
       "  <thead>\n",
       "    <tr style=\"text-align: right;\">\n",
       "      <th></th>\n",
       "      <th>User_Id</th>\n",
       "      <th>Place_Id</th>\n",
       "      <th>Place_Ratings</th>\n",
       "      <th>user</th>\n",
       "      <th>place</th>\n",
       "    </tr>\n",
       "  </thead>\n",
       "  <tbody>\n",
       "    <tr>\n",
       "      <th>6252</th>\n",
       "      <td>188</td>\n",
       "      <td>207</td>\n",
       "      <td>3.0</td>\n",
       "      <td>187</td>\n",
       "      <td>262</td>\n",
       "    </tr>\n",
       "    <tr>\n",
       "      <th>4684</th>\n",
       "      <td>142</td>\n",
       "      <td>268</td>\n",
       "      <td>2.0</td>\n",
       "      <td>141</td>\n",
       "      <td>83</td>\n",
       "    </tr>\n",
       "    <tr>\n",
       "      <th>1731</th>\n",
       "      <td>54</td>\n",
       "      <td>103</td>\n",
       "      <td>3.0</td>\n",
       "      <td>53</td>\n",
       "      <td>10</td>\n",
       "    </tr>\n",
       "    <tr>\n",
       "      <th>4742</th>\n",
       "      <td>144</td>\n",
       "      <td>119</td>\n",
       "      <td>3.0</td>\n",
       "      <td>143</td>\n",
       "      <td>141</td>\n",
       "    </tr>\n",
       "    <tr>\n",
       "      <th>4521</th>\n",
       "      <td>138</td>\n",
       "      <td>288</td>\n",
       "      <td>5.0</td>\n",
       "      <td>137</td>\n",
       "      <td>283</td>\n",
       "    </tr>\n",
       "    <tr>\n",
       "      <th>...</th>\n",
       "      <td>...</td>\n",
       "      <td>...</td>\n",
       "      <td>...</td>\n",
       "      <td>...</td>\n",
       "      <td>...</td>\n",
       "    </tr>\n",
       "    <tr>\n",
       "      <th>5734</th>\n",
       "      <td>173</td>\n",
       "      <td>402</td>\n",
       "      <td>5.0</td>\n",
       "      <td>172</td>\n",
       "      <td>175</td>\n",
       "    </tr>\n",
       "    <tr>\n",
       "      <th>5191</th>\n",
       "      <td>157</td>\n",
       "      <td>85</td>\n",
       "      <td>4.0</td>\n",
       "      <td>156</td>\n",
       "      <td>33</td>\n",
       "    </tr>\n",
       "    <tr>\n",
       "      <th>5390</th>\n",
       "      <td>163</td>\n",
       "      <td>18</td>\n",
       "      <td>3.0</td>\n",
       "      <td>162</td>\n",
       "      <td>52</td>\n",
       "    </tr>\n",
       "    <tr>\n",
       "      <th>860</th>\n",
       "      <td>28</td>\n",
       "      <td>416</td>\n",
       "      <td>4.0</td>\n",
       "      <td>27</td>\n",
       "      <td>187</td>\n",
       "    </tr>\n",
       "    <tr>\n",
       "      <th>7270</th>\n",
       "      <td>219</td>\n",
       "      <td>258</td>\n",
       "      <td>2.0</td>\n",
       "      <td>218</td>\n",
       "      <td>6</td>\n",
       "    </tr>\n",
       "  </tbody>\n",
       "</table>\n",
       "<p>10000 rows × 5 columns</p>\n",
       "</div>"
      ],
      "text/plain": [
       "      User_Id  Place_Id  Place_Ratings  user  place\n",
       "6252      188       207            3.0   187    262\n",
       "4684      142       268            2.0   141     83\n",
       "1731       54       103            3.0    53     10\n",
       "4742      144       119            3.0   143    141\n",
       "4521      138       288            5.0   137    283\n",
       "...       ...       ...            ...   ...    ...\n",
       "5734      173       402            5.0   172    175\n",
       "5191      157        85            4.0   156     33\n",
       "5390      163        18            3.0   162     52\n",
       "860        28       416            4.0    27    187\n",
       "7270      219       258            2.0   218      6\n",
       "\n",
       "[10000 rows x 5 columns]"
      ]
     },
     "execution_count": 38,
     "metadata": {},
     "output_type": "execute_result"
    }
   ],
   "source": [
    "df = df.sample(frac=1,random_state=42)\n",
    "df"
   ]
  },
  {
   "cell_type": "code",
   "execution_count": 39,
   "id": "7f48c2ec",
   "metadata": {
    "execution": {
     "iopub.execute_input": "2022-10-01T16:35:09.020210Z",
     "iopub.status.busy": "2022-10-01T16:35:09.019930Z",
     "iopub.status.idle": "2022-10-01T16:35:09.033688Z",
     "shell.execute_reply": "2022-10-01T16:35:09.032669Z"
    },
    "papermill": {
     "duration": 0.031187,
     "end_time": "2022-10-01T16:35:09.036047",
     "exception": false,
     "start_time": "2022-10-01T16:35:09.004860",
     "status": "completed"
    },
    "tags": []
   },
   "outputs": [
    {
     "name": "stdout",
     "output_type": "stream",
     "text": [
      "[[187 262]\n",
      " [141  83]\n",
      " [ 53  10]\n",
      " ...\n",
      " [162  52]\n",
      " [ 27 187]\n",
      " [218   6]] [0.5  0.25 0.5  ... 0.5  0.75 0.25]\n"
     ]
    }
   ],
   "source": [
    "x = df[['user','place']].values\n",
    "\n",
    "y = df['Place_Ratings'].apply(lambda x:(x-min_rating)/(max_rating-min_rating)).values\n",
    "\n",
    "train_indices = int(0.8 * df.shape[0])\n",
    "\n",
    "x_train,x_val,y_train,y_val = (\n",
    "    x[:train_indices],\n",
    "    x[train_indices:],\n",
    "    y[:train_indices],\n",
    "    y[train_indices:]\n",
    ")\n",
    "\n",
    "print(x,y)"
   ]
  },
  {
   "cell_type": "markdown",
   "id": "bbbbbbad",
   "metadata": {
    "papermill": {
     "duration": 0.014391,
     "end_time": "2022-10-01T16:35:09.065069",
     "exception": false,
     "start_time": "2022-10-01T16:35:09.050678",
     "status": "completed"
    },
    "tags": []
   },
   "source": [
    "## Training"
   ]
  },
  {
   "cell_type": "code",
   "execution_count": 40,
   "id": "03f53388",
   "metadata": {
    "execution": {
     "iopub.execute_input": "2022-10-01T16:35:09.095492Z",
     "iopub.status.busy": "2022-10-01T16:35:09.094728Z",
     "iopub.status.idle": "2022-10-01T16:35:09.103487Z",
     "shell.execute_reply": "2022-10-01T16:35:09.102590Z"
    },
    "papermill": {
     "duration": 0.026085,
     "end_time": "2022-10-01T16:35:09.105454",
     "exception": false,
     "start_time": "2022-10-01T16:35:09.079369",
     "status": "completed"
    },
    "tags": []
   },
   "outputs": [],
   "source": [
    "class RecommenderNet(tf.keras.Model):\n",
    " \n",
    "  # Insialisasi fungsi\n",
    "  def __init__(self, num_users, num_place, embedding_size, **kwargs):\n",
    "    super(RecommenderNet, self).__init__(**kwargs)\n",
    "    self.num_users = num_users\n",
    "    self.num_place = num_place\n",
    "    self.embedding_size = embedding_size\n",
    "    self.user_embedding = layers.Embedding(\n",
    "        num_users,\n",
    "        embedding_size,\n",
    "        embeddings_initializer = 'he_normal',\n",
    "        embeddings_regularizer = keras.regularizers.l2(1e-6)\n",
    "    )\n",
    "    self.user_bias = layers.Embedding(num_users, 1) \n",
    "    self.place_embedding = layers.Embedding( \n",
    "        num_place,\n",
    "        embedding_size,\n",
    "        embeddings_initializer = 'he_normal',\n",
    "        embeddings_regularizer = keras.regularizers.l2(1e-6)\n",
    "    )\n",
    "    self.place_bias = layers.Embedding(num_place, 1) \n",
    " \n",
    "  def call(self, inputs):\n",
    "    user_vector = self.user_embedding(inputs[:,0]) # memanggil layer embedding 1\n",
    "    user_bias = self.user_bias(inputs[:, 0]) # memanggil layer embedding 2\n",
    "    place_vector = self.place_embedding(inputs[:, 1]) # memanggil layer embedding 3\n",
    "    place_bias = self.place_bias(inputs[:, 1]) # memanggil layer embedding 4\n",
    " \n",
    "    dot_user_place = tf.tensordot(user_vector, place_vector, 2) \n",
    " \n",
    "    x = dot_user_place + user_bias + place_bias\n",
    "    \n",
    "    return tf.nn.sigmoid(x) # activation sigmoid"
   ]
  },
  {
   "cell_type": "code",
   "execution_count": 41,
   "id": "edd2b2bb",
   "metadata": {
    "execution": {
     "iopub.execute_input": "2022-10-01T16:35:09.135869Z",
     "iopub.status.busy": "2022-10-01T16:35:09.135141Z",
     "iopub.status.idle": "2022-10-01T16:35:12.116278Z",
     "shell.execute_reply": "2022-10-01T16:35:12.114668Z"
    },
    "papermill": {
     "duration": 2.998882,
     "end_time": "2022-10-01T16:35:12.118908",
     "exception": false,
     "start_time": "2022-10-01T16:35:09.120026",
     "status": "completed"
    },
    "tags": []
   },
   "outputs": [
    {
     "name": "stderr",
     "output_type": "stream",
     "text": [
      "2022-10-01 16:35:09.225954: I tensorflow/stream_executor/cuda/cuda_gpu_executor.cc:937] successful NUMA node read from SysFS had negative value (-1), but there must be at least one NUMA node, so returning NUMA node zero\n",
      "2022-10-01 16:35:09.327704: I tensorflow/stream_executor/cuda/cuda_gpu_executor.cc:937] successful NUMA node read from SysFS had negative value (-1), but there must be at least one NUMA node, so returning NUMA node zero\n",
      "2022-10-01 16:35:09.328571: I tensorflow/stream_executor/cuda/cuda_gpu_executor.cc:937] successful NUMA node read from SysFS had negative value (-1), but there must be at least one NUMA node, so returning NUMA node zero\n",
      "2022-10-01 16:35:09.330544: I tensorflow/core/platform/cpu_feature_guard.cc:142] This TensorFlow binary is optimized with oneAPI Deep Neural Network Library (oneDNN) to use the following CPU instructions in performance-critical operations:  AVX2 AVX512F FMA\n",
      "To enable them in other operations, rebuild TensorFlow with the appropriate compiler flags.\n",
      "2022-10-01 16:35:09.330919: I tensorflow/stream_executor/cuda/cuda_gpu_executor.cc:937] successful NUMA node read from SysFS had negative value (-1), but there must be at least one NUMA node, so returning NUMA node zero\n",
      "2022-10-01 16:35:09.331836: I tensorflow/stream_executor/cuda/cuda_gpu_executor.cc:937] successful NUMA node read from SysFS had negative value (-1), but there must be at least one NUMA node, so returning NUMA node zero\n",
      "2022-10-01 16:35:09.332732: I tensorflow/stream_executor/cuda/cuda_gpu_executor.cc:937] successful NUMA node read from SysFS had negative value (-1), but there must be at least one NUMA node, so returning NUMA node zero\n",
      "2022-10-01 16:35:11.730765: I tensorflow/stream_executor/cuda/cuda_gpu_executor.cc:937] successful NUMA node read from SysFS had negative value (-1), but there must be at least one NUMA node, so returning NUMA node zero\n",
      "2022-10-01 16:35:11.731691: I tensorflow/stream_executor/cuda/cuda_gpu_executor.cc:937] successful NUMA node read from SysFS had negative value (-1), but there must be at least one NUMA node, so returning NUMA node zero\n",
      "2022-10-01 16:35:11.732376: I tensorflow/stream_executor/cuda/cuda_gpu_executor.cc:937] successful NUMA node read from SysFS had negative value (-1), but there must be at least one NUMA node, so returning NUMA node zero\n",
      "2022-10-01 16:35:11.732996: I tensorflow/core/common_runtime/gpu/gpu_device.cc:1510] Created device /job:localhost/replica:0/task:0/device:GPU:0 with 15401 MB memory:  -> device: 0, name: Tesla P100-PCIE-16GB, pci bus id: 0000:00:04.0, compute capability: 6.0\n"
     ]
    }
   ],
   "source": [
    "model = RecommenderNet(num_users, num_place, 100)\n",
    " \n",
    "# model compile\n",
    "model.compile(\n",
    "    loss = tf.keras.losses.BinaryCrossentropy(),\n",
    "    optimizer = keras.optimizers.Adam(learning_rate=0.001),\n",
    "    metrics=[tf.keras.metrics.RootMeanSquaredError()]\n",
    ")"
   ]
  },
  {
   "cell_type": "code",
   "execution_count": 42,
   "id": "0aebeeb7",
   "metadata": {
    "execution": {
     "iopub.execute_input": "2022-10-01T16:35:12.151860Z",
     "iopub.status.busy": "2022-10-01T16:35:12.151560Z",
     "iopub.status.idle": "2022-10-01T16:39:54.391755Z",
     "shell.execute_reply": "2022-10-01T16:39:54.389948Z"
    },
    "papermill": {
     "duration": 282.25949,
     "end_time": "2022-10-01T16:39:54.394573",
     "exception": false,
     "start_time": "2022-10-01T16:35:12.135083",
     "status": "completed"
    },
    "tags": []
   },
   "outputs": [
    {
     "name": "stderr",
     "output_type": "stream",
     "text": [
      "2022-10-01 16:35:12.216498: I tensorflow/compiler/mlir/mlir_graph_optimization_pass.cc:185] None of the MLIR Optimization Passes are enabled (registered 2)\n"
     ]
    },
    {
     "name": "stdout",
     "output_type": "stream",
     "text": [
      "Epoch 1/100\n",
      "1000/1000 [==============================] - 5s 3ms/step - loss: 0.6949 - root_mean_squared_error: 0.3464 - val_loss: 0.6962 - val_root_mean_squared_error: 0.3470\n",
      "Epoch 2/100\n",
      "1000/1000 [==============================] - 3s 3ms/step - loss: 0.6900 - root_mean_squared_error: 0.3428 - val_loss: 0.6965 - val_root_mean_squared_error: 0.3472\n",
      "Epoch 3/100\n",
      "1000/1000 [==============================] - 3s 3ms/step - loss: 0.6844 - root_mean_squared_error: 0.3388 - val_loss: 0.6953 - val_root_mean_squared_error: 0.3463\n",
      "Epoch 4/100\n",
      "1000/1000 [==============================] - 3s 3ms/step - loss: 0.6799 - root_mean_squared_error: 0.3355 - val_loss: 0.6953 - val_root_mean_squared_error: 0.3463\n",
      "Epoch 5/100\n",
      "1000/1000 [==============================] - 3s 3ms/step - loss: 0.6765 - root_mean_squared_error: 0.3330 - val_loss: 0.6961 - val_root_mean_squared_error: 0.3469\n",
      "Epoch 6/100\n",
      "1000/1000 [==============================] - 3s 3ms/step - loss: 0.6690 - root_mean_squared_error: 0.3275 - val_loss: 0.6976 - val_root_mean_squared_error: 0.3478\n",
      "Epoch 7/100\n",
      "1000/1000 [==============================] - 3s 3ms/step - loss: 0.6695 - root_mean_squared_error: 0.3278 - val_loss: 0.6983 - val_root_mean_squared_error: 0.3482\n",
      "Epoch 8/100\n",
      "1000/1000 [==============================] - 3s 3ms/step - loss: 0.6671 - root_mean_squared_error: 0.3261 - val_loss: 0.7009 - val_root_mean_squared_error: 0.3500\n",
      "Epoch 9/100\n",
      "1000/1000 [==============================] - 3s 3ms/step - loss: 0.6650 - root_mean_squared_error: 0.3245 - val_loss: 0.7018 - val_root_mean_squared_error: 0.3506\n",
      "Epoch 10/100\n",
      "1000/1000 [==============================] - 3s 3ms/step - loss: 0.6640 - root_mean_squared_error: 0.3238 - val_loss: 0.7021 - val_root_mean_squared_error: 0.3508\n",
      "Epoch 11/100\n",
      "1000/1000 [==============================] - 3s 3ms/step - loss: 0.6607 - root_mean_squared_error: 0.3214 - val_loss: 0.7036 - val_root_mean_squared_error: 0.3518\n",
      "Epoch 12/100\n",
      "1000/1000 [==============================] - 3s 3ms/step - loss: 0.6638 - root_mean_squared_error: 0.3236 - val_loss: 0.7042 - val_root_mean_squared_error: 0.3523\n",
      "Epoch 13/100\n",
      "1000/1000 [==============================] - 3s 3ms/step - loss: 0.6599 - root_mean_squared_error: 0.3208 - val_loss: 0.7061 - val_root_mean_squared_error: 0.3535\n",
      "Epoch 14/100\n",
      "1000/1000 [==============================] - 3s 3ms/step - loss: 0.6603 - root_mean_squared_error: 0.3211 - val_loss: 0.7079 - val_root_mean_squared_error: 0.3547\n",
      "Epoch 15/100\n",
      "1000/1000 [==============================] - 3s 3ms/step - loss: 0.6612 - root_mean_squared_error: 0.3219 - val_loss: 0.7093 - val_root_mean_squared_error: 0.3556\n",
      "Epoch 16/100\n",
      "1000/1000 [==============================] - 3s 3ms/step - loss: 0.6594 - root_mean_squared_error: 0.3205 - val_loss: 0.7097 - val_root_mean_squared_error: 0.3558\n",
      "Epoch 17/100\n",
      "1000/1000 [==============================] - 3s 3ms/step - loss: 0.6611 - root_mean_squared_error: 0.3216 - val_loss: 0.7099 - val_root_mean_squared_error: 0.3558\n",
      "Epoch 18/100\n",
      "1000/1000 [==============================] - 3s 3ms/step - loss: 0.6603 - root_mean_squared_error: 0.3211 - val_loss: 0.7098 - val_root_mean_squared_error: 0.3558\n",
      "Epoch 19/100\n",
      "1000/1000 [==============================] - 3s 3ms/step - loss: 0.6582 - root_mean_squared_error: 0.3196 - val_loss: 0.7115 - val_root_mean_squared_error: 0.3569\n",
      "Epoch 20/100\n",
      "1000/1000 [==============================] - 3s 3ms/step - loss: 0.6608 - root_mean_squared_error: 0.3215 - val_loss: 0.7110 - val_root_mean_squared_error: 0.3565\n",
      "Epoch 21/100\n",
      "1000/1000 [==============================] - 3s 3ms/step - loss: 0.6585 - root_mean_squared_error: 0.3196 - val_loss: 0.7119 - val_root_mean_squared_error: 0.3570\n",
      "Epoch 22/100\n",
      "1000/1000 [==============================] - 3s 3ms/step - loss: 0.6568 - root_mean_squared_error: 0.3184 - val_loss: 0.7113 - val_root_mean_squared_error: 0.3567\n",
      "Epoch 23/100\n",
      "1000/1000 [==============================] - 3s 3ms/step - loss: 0.6555 - root_mean_squared_error: 0.3177 - val_loss: 0.7112 - val_root_mean_squared_error: 0.3566\n",
      "Epoch 24/100\n",
      "1000/1000 [==============================] - 3s 3ms/step - loss: 0.6577 - root_mean_squared_error: 0.3191 - val_loss: 0.7133 - val_root_mean_squared_error: 0.3579\n",
      "Epoch 25/100\n",
      "1000/1000 [==============================] - 3s 3ms/step - loss: 0.6598 - root_mean_squared_error: 0.3205 - val_loss: 0.7150 - val_root_mean_squared_error: 0.3590\n",
      "Epoch 26/100\n",
      "1000/1000 [==============================] - 3s 3ms/step - loss: 0.6578 - root_mean_squared_error: 0.3192 - val_loss: 0.7162 - val_root_mean_squared_error: 0.3598\n",
      "Epoch 27/100\n",
      "1000/1000 [==============================] - 3s 3ms/step - loss: 0.6575 - root_mean_squared_error: 0.3189 - val_loss: 0.7178 - val_root_mean_squared_error: 0.3608\n",
      "Epoch 28/100\n",
      "1000/1000 [==============================] - 3s 3ms/step - loss: 0.6568 - root_mean_squared_error: 0.3186 - val_loss: 0.7188 - val_root_mean_squared_error: 0.3613\n",
      "Epoch 29/100\n",
      "1000/1000 [==============================] - 3s 3ms/step - loss: 0.6571 - root_mean_squared_error: 0.3187 - val_loss: 0.7171 - val_root_mean_squared_error: 0.3601\n",
      "Epoch 30/100\n",
      "1000/1000 [==============================] - 3s 3ms/step - loss: 0.6566 - root_mean_squared_error: 0.3182 - val_loss: 0.7166 - val_root_mean_squared_error: 0.3598\n",
      "Epoch 31/100\n",
      "1000/1000 [==============================] - 3s 3ms/step - loss: 0.6561 - root_mean_squared_error: 0.3179 - val_loss: 0.7146 - val_root_mean_squared_error: 0.3585\n",
      "Epoch 32/100\n",
      "1000/1000 [==============================] - 3s 3ms/step - loss: 0.6554 - root_mean_squared_error: 0.3175 - val_loss: 0.7152 - val_root_mean_squared_error: 0.3589\n",
      "Epoch 33/100\n",
      "1000/1000 [==============================] - 3s 3ms/step - loss: 0.6544 - root_mean_squared_error: 0.3165 - val_loss: 0.7159 - val_root_mean_squared_error: 0.3593\n",
      "Epoch 34/100\n",
      "1000/1000 [==============================] - 3s 3ms/step - loss: 0.6580 - root_mean_squared_error: 0.3192 - val_loss: 0.7174 - val_root_mean_squared_error: 0.3603\n",
      "Epoch 35/100\n",
      "1000/1000 [==============================] - 3s 3ms/step - loss: 0.6573 - root_mean_squared_error: 0.3188 - val_loss: 0.7178 - val_root_mean_squared_error: 0.3605\n",
      "Epoch 36/100\n",
      "1000/1000 [==============================] - 3s 3ms/step - loss: 0.6585 - root_mean_squared_error: 0.3196 - val_loss: 0.7171 - val_root_mean_squared_error: 0.3601\n",
      "Epoch 37/100\n",
      "1000/1000 [==============================] - 3s 3ms/step - loss: 0.6548 - root_mean_squared_error: 0.3168 - val_loss: 0.7184 - val_root_mean_squared_error: 0.3609\n",
      "Epoch 38/100\n",
      "1000/1000 [==============================] - 3s 3ms/step - loss: 0.6559 - root_mean_squared_error: 0.3176 - val_loss: 0.7182 - val_root_mean_squared_error: 0.3608\n",
      "Epoch 39/100\n",
      "1000/1000 [==============================] - 3s 3ms/step - loss: 0.6561 - root_mean_squared_error: 0.3180 - val_loss: 0.7170 - val_root_mean_squared_error: 0.3599\n",
      "Epoch 40/100\n",
      "1000/1000 [==============================] - 3s 3ms/step - loss: 0.6551 - root_mean_squared_error: 0.3173 - val_loss: 0.7161 - val_root_mean_squared_error: 0.3594\n",
      "Epoch 41/100\n",
      "1000/1000 [==============================] - 3s 3ms/step - loss: 0.6571 - root_mean_squared_error: 0.3186 - val_loss: 0.7174 - val_root_mean_squared_error: 0.3601\n",
      "Epoch 42/100\n",
      "1000/1000 [==============================] - 3s 3ms/step - loss: 0.6559 - root_mean_squared_error: 0.3178 - val_loss: 0.7191 - val_root_mean_squared_error: 0.3612\n",
      "Epoch 43/100\n",
      "1000/1000 [==============================] - 3s 3ms/step - loss: 0.6557 - root_mean_squared_error: 0.3176 - val_loss: 0.7186 - val_root_mean_squared_error: 0.3609\n",
      "Epoch 44/100\n",
      "1000/1000 [==============================] - 3s 3ms/step - loss: 0.6548 - root_mean_squared_error: 0.3169 - val_loss: 0.7180 - val_root_mean_squared_error: 0.3606\n",
      "Epoch 45/100\n",
      "1000/1000 [==============================] - 3s 3ms/step - loss: 0.6550 - root_mean_squared_error: 0.3173 - val_loss: 0.7195 - val_root_mean_squared_error: 0.3615\n",
      "Epoch 46/100\n",
      "1000/1000 [==============================] - 3s 3ms/step - loss: 0.6555 - root_mean_squared_error: 0.3175 - val_loss: 0.7191 - val_root_mean_squared_error: 0.3611\n",
      "Epoch 47/100\n",
      "1000/1000 [==============================] - 3s 3ms/step - loss: 0.6562 - root_mean_squared_error: 0.3178 - val_loss: 0.7189 - val_root_mean_squared_error: 0.3609\n",
      "Epoch 48/100\n",
      "1000/1000 [==============================] - 3s 3ms/step - loss: 0.6529 - root_mean_squared_error: 0.3156 - val_loss: 0.7184 - val_root_mean_squared_error: 0.3605\n",
      "Epoch 49/100\n",
      "1000/1000 [==============================] - 3s 3ms/step - loss: 0.6575 - root_mean_squared_error: 0.3188 - val_loss: 0.7191 - val_root_mean_squared_error: 0.3610\n",
      "Epoch 50/100\n",
      "1000/1000 [==============================] - 3s 3ms/step - loss: 0.6543 - root_mean_squared_error: 0.3166 - val_loss: 0.7169 - val_root_mean_squared_error: 0.3596\n",
      "Epoch 51/100\n",
      "1000/1000 [==============================] - 3s 3ms/step - loss: 0.6567 - root_mean_squared_error: 0.3185 - val_loss: 0.7181 - val_root_mean_squared_error: 0.3604\n",
      "Epoch 52/100\n",
      "1000/1000 [==============================] - 3s 3ms/step - loss: 0.6567 - root_mean_squared_error: 0.3185 - val_loss: 0.7190 - val_root_mean_squared_error: 0.3610\n",
      "Epoch 53/100\n",
      "1000/1000 [==============================] - 3s 3ms/step - loss: 0.6537 - root_mean_squared_error: 0.3162 - val_loss: 0.7178 - val_root_mean_squared_error: 0.3602\n",
      "Epoch 54/100\n",
      "1000/1000 [==============================] - 3s 3ms/step - loss: 0.6574 - root_mean_squared_error: 0.3189 - val_loss: 0.7162 - val_root_mean_squared_error: 0.3592\n",
      "Epoch 55/100\n",
      "1000/1000 [==============================] - 3s 3ms/step - loss: 0.6581 - root_mean_squared_error: 0.3194 - val_loss: 0.7178 - val_root_mean_squared_error: 0.3601\n",
      "Epoch 56/100\n",
      "1000/1000 [==============================] - 3s 3ms/step - loss: 0.6551 - root_mean_squared_error: 0.3172 - val_loss: 0.7192 - val_root_mean_squared_error: 0.3610\n",
      "Epoch 57/100\n",
      "1000/1000 [==============================] - 3s 3ms/step - loss: 0.6537 - root_mean_squared_error: 0.3161 - val_loss: 0.7186 - val_root_mean_squared_error: 0.3604\n",
      "Epoch 58/100\n",
      "1000/1000 [==============================] - 3s 3ms/step - loss: 0.6570 - root_mean_squared_error: 0.3185 - val_loss: 0.7175 - val_root_mean_squared_error: 0.3598\n",
      "Epoch 59/100\n",
      "1000/1000 [==============================] - 3s 3ms/step - loss: 0.6537 - root_mean_squared_error: 0.3161 - val_loss: 0.7192 - val_root_mean_squared_error: 0.3608\n",
      "Epoch 60/100\n",
      "1000/1000 [==============================] - 3s 3ms/step - loss: 0.6546 - root_mean_squared_error: 0.3168 - val_loss: 0.7188 - val_root_mean_squared_error: 0.3606\n",
      "Epoch 61/100\n",
      "1000/1000 [==============================] - 3s 3ms/step - loss: 0.6563 - root_mean_squared_error: 0.3181 - val_loss: 0.7208 - val_root_mean_squared_error: 0.3619\n",
      "Epoch 62/100\n",
      "1000/1000 [==============================] - 3s 3ms/step - loss: 0.6538 - root_mean_squared_error: 0.3163 - val_loss: 0.7211 - val_root_mean_squared_error: 0.3622\n",
      "Epoch 63/100\n",
      "1000/1000 [==============================] - 3s 3ms/step - loss: 0.6546 - root_mean_squared_error: 0.3168 - val_loss: 0.7214 - val_root_mean_squared_error: 0.3624\n",
      "Epoch 64/100\n",
      "1000/1000 [==============================] - 3s 3ms/step - loss: 0.6540 - root_mean_squared_error: 0.3165 - val_loss: 0.7196 - val_root_mean_squared_error: 0.3611\n",
      "Epoch 65/100\n",
      "1000/1000 [==============================] - 3s 3ms/step - loss: 0.6534 - root_mean_squared_error: 0.3158 - val_loss: 0.7183 - val_root_mean_squared_error: 0.3602\n",
      "Epoch 66/100\n",
      "1000/1000 [==============================] - 3s 3ms/step - loss: 0.6554 - root_mean_squared_error: 0.3174 - val_loss: 0.7182 - val_root_mean_squared_error: 0.3600\n",
      "Epoch 67/100\n",
      "1000/1000 [==============================] - 3s 3ms/step - loss: 0.6565 - root_mean_squared_error: 0.3182 - val_loss: 0.7192 - val_root_mean_squared_error: 0.3605\n",
      "Epoch 68/100\n",
      "1000/1000 [==============================] - 3s 3ms/step - loss: 0.6570 - root_mean_squared_error: 0.3185 - val_loss: 0.7196 - val_root_mean_squared_error: 0.3608\n",
      "Epoch 69/100\n",
      "1000/1000 [==============================] - 3s 3ms/step - loss: 0.6565 - root_mean_squared_error: 0.3185 - val_loss: 0.7180 - val_root_mean_squared_error: 0.3600\n",
      "Epoch 70/100\n",
      "1000/1000 [==============================] - 3s 3ms/step - loss: 0.6536 - root_mean_squared_error: 0.3160 - val_loss: 0.7170 - val_root_mean_squared_error: 0.3594\n",
      "Epoch 71/100\n",
      "1000/1000 [==============================] - 3s 3ms/step - loss: 0.6525 - root_mean_squared_error: 0.3153 - val_loss: 0.7174 - val_root_mean_squared_error: 0.3597\n",
      "Epoch 72/100\n",
      "1000/1000 [==============================] - 3s 3ms/step - loss: 0.6539 - root_mean_squared_error: 0.3161 - val_loss: 0.7177 - val_root_mean_squared_error: 0.3598\n",
      "Epoch 73/100\n",
      "1000/1000 [==============================] - 3s 3ms/step - loss: 0.6560 - root_mean_squared_error: 0.3178 - val_loss: 0.7167 - val_root_mean_squared_error: 0.3592\n",
      "Epoch 74/100\n",
      "1000/1000 [==============================] - 3s 3ms/step - loss: 0.6543 - root_mean_squared_error: 0.3168 - val_loss: 0.7165 - val_root_mean_squared_error: 0.3592\n",
      "Epoch 75/100\n",
      "1000/1000 [==============================] - 3s 3ms/step - loss: 0.6559 - root_mean_squared_error: 0.3177 - val_loss: 0.7158 - val_root_mean_squared_error: 0.3589\n",
      "Epoch 76/100\n",
      "1000/1000 [==============================] - 3s 3ms/step - loss: 0.6562 - root_mean_squared_error: 0.3181 - val_loss: 0.7158 - val_root_mean_squared_error: 0.3589\n",
      "Epoch 77/100\n",
      "1000/1000 [==============================] - 3s 3ms/step - loss: 0.6564 - root_mean_squared_error: 0.3180 - val_loss: 0.7177 - val_root_mean_squared_error: 0.3601\n",
      "Epoch 78/100\n",
      "1000/1000 [==============================] - 3s 3ms/step - loss: 0.6560 - root_mean_squared_error: 0.3179 - val_loss: 0.7179 - val_root_mean_squared_error: 0.3602\n",
      "Epoch 79/100\n",
      "1000/1000 [==============================] - 3s 3ms/step - loss: 0.6532 - root_mean_squared_error: 0.3156 - val_loss: 0.7197 - val_root_mean_squared_error: 0.3613\n",
      "Epoch 80/100\n",
      "1000/1000 [==============================] - 3s 3ms/step - loss: 0.6574 - root_mean_squared_error: 0.3187 - val_loss: 0.7207 - val_root_mean_squared_error: 0.3620\n",
      "Epoch 81/100\n",
      "1000/1000 [==============================] - 3s 3ms/step - loss: 0.6552 - root_mean_squared_error: 0.3172 - val_loss: 0.7195 - val_root_mean_squared_error: 0.3611\n",
      "Epoch 82/100\n",
      "1000/1000 [==============================] - 3s 3ms/step - loss: 0.6536 - root_mean_squared_error: 0.3162 - val_loss: 0.7195 - val_root_mean_squared_error: 0.3612\n",
      "Epoch 83/100\n",
      "1000/1000 [==============================] - 3s 3ms/step - loss: 0.6571 - root_mean_squared_error: 0.3186 - val_loss: 0.7203 - val_root_mean_squared_error: 0.3617\n",
      "Epoch 84/100\n",
      "1000/1000 [==============================] - 3s 3ms/step - loss: 0.6567 - root_mean_squared_error: 0.3184 - val_loss: 0.7199 - val_root_mean_squared_error: 0.3615\n",
      "Epoch 85/100\n",
      "1000/1000 [==============================] - 3s 3ms/step - loss: 0.6546 - root_mean_squared_error: 0.3168 - val_loss: 0.7211 - val_root_mean_squared_error: 0.3622\n",
      "Epoch 86/100\n",
      "1000/1000 [==============================] - 3s 3ms/step - loss: 0.6538 - root_mean_squared_error: 0.3160 - val_loss: 0.7226 - val_root_mean_squared_error: 0.3632\n",
      "Epoch 87/100\n",
      "1000/1000 [==============================] - 3s 3ms/step - loss: 0.6539 - root_mean_squared_error: 0.3164 - val_loss: 0.7203 - val_root_mean_squared_error: 0.3617\n",
      "Epoch 88/100\n",
      "1000/1000 [==============================] - 3s 3ms/step - loss: 0.6553 - root_mean_squared_error: 0.3174 - val_loss: 0.7207 - val_root_mean_squared_error: 0.3619\n",
      "Epoch 89/100\n",
      "1000/1000 [==============================] - 3s 3ms/step - loss: 0.6530 - root_mean_squared_error: 0.3155 - val_loss: 0.7192 - val_root_mean_squared_error: 0.3609\n",
      "Epoch 90/100\n",
      "1000/1000 [==============================] - 3s 3ms/step - loss: 0.6568 - root_mean_squared_error: 0.3184 - val_loss: 0.7215 - val_root_mean_squared_error: 0.3624\n",
      "Epoch 91/100\n",
      "1000/1000 [==============================] - 3s 3ms/step - loss: 0.6557 - root_mean_squared_error: 0.3175 - val_loss: 0.7214 - val_root_mean_squared_error: 0.3623\n",
      "Epoch 92/100\n",
      "1000/1000 [==============================] - 3s 3ms/step - loss: 0.6554 - root_mean_squared_error: 0.3172 - val_loss: 0.7207 - val_root_mean_squared_error: 0.3620\n",
      "Epoch 93/100\n",
      "1000/1000 [==============================] - 3s 3ms/step - loss: 0.6544 - root_mean_squared_error: 0.3167 - val_loss: 0.7213 - val_root_mean_squared_error: 0.3623\n",
      "Epoch 94/100\n",
      "1000/1000 [==============================] - 3s 3ms/step - loss: 0.6544 - root_mean_squared_error: 0.3164 - val_loss: 0.7212 - val_root_mean_squared_error: 0.3622\n",
      "Epoch 95/100\n",
      "1000/1000 [==============================] - 3s 3ms/step - loss: 0.6547 - root_mean_squared_error: 0.3170 - val_loss: 0.7217 - val_root_mean_squared_error: 0.3628\n",
      "Epoch 96/100\n",
      "1000/1000 [==============================] - 3s 3ms/step - loss: 0.6540 - root_mean_squared_error: 0.3162 - val_loss: 0.7222 - val_root_mean_squared_error: 0.3631\n",
      "Epoch 97/100\n",
      "1000/1000 [==============================] - 3s 3ms/step - loss: 0.6530 - root_mean_squared_error: 0.3156 - val_loss: 0.7213 - val_root_mean_squared_error: 0.3624\n",
      "Epoch 98/100\n",
      "1000/1000 [==============================] - 3s 3ms/step - loss: 0.6566 - root_mean_squared_error: 0.3183 - val_loss: 0.7211 - val_root_mean_squared_error: 0.3624\n",
      "Epoch 99/100\n",
      "1000/1000 [==============================] - 3s 3ms/step - loss: 0.6547 - root_mean_squared_error: 0.3169 - val_loss: 0.7222 - val_root_mean_squared_error: 0.3630\n",
      "Epoch 100/100\n",
      "1000/1000 [==============================] - 3s 3ms/step - loss: 0.6548 - root_mean_squared_error: 0.3168 - val_loss: 0.7204 - val_root_mean_squared_error: 0.3618\n"
     ]
    }
   ],
   "source": [
    "history = model.fit(\n",
    "    x = x_train,\n",
    "    y = y_train,\n",
    "    batch_size = 8,\n",
    "    epochs = 100,\n",
    "    validation_data = (x_val, y_val),\n",
    ")"
   ]
  },
  {
   "cell_type": "code",
   "execution_count": 43,
   "id": "035ff726",
   "metadata": {
    "execution": {
     "iopub.execute_input": "2022-10-01T16:39:54.985414Z",
     "iopub.status.busy": "2022-10-01T16:39:54.983573Z",
     "iopub.status.idle": "2022-10-01T16:39:55.351819Z",
     "shell.execute_reply": "2022-10-01T16:39:55.350807Z"
    },
    "papermill": {
     "duration": 0.688597,
     "end_time": "2022-10-01T16:39:55.353960",
     "exception": false,
     "start_time": "2022-10-01T16:39:54.665363",
     "status": "completed"
    },
    "tags": []
   },
   "outputs": [
    {
     "data": {
      "image/png": "[encoded data removed]",
      "text/plain": [
       "<Figure size 432x288 with 1 Axes>"
      ]
     },
     "metadata": {
      "needs_background": "light"
     },
     "output_type": "display_data"
    }
   ],
   "source": [
    "plt.plot(history.history['root_mean_squared_error'])\n",
    "plt.plot(history.history['val_root_mean_squared_error'])\n",
    "plt.title('model_metrics')\n",
    "plt.ylabel('root_mean_squared_error')\n",
    "plt.xlabel('epoch')\n",
    "plt.legend(['train', 'test'], loc='upper left')\n",
    "plt.show()"
   ]
  },
  {
   "cell_type": "markdown",
   "id": "65ea8cae",
   "metadata": {
    "papermill": {
     "duration": 0.267297,
     "end_time": "2022-10-01T16:39:55.890918",
     "exception": false,
     "start_time": "2022-10-01T16:39:55.623621",
     "status": "completed"
    },
    "tags": []
   },
   "source": [
    "# Recommendation"
   ]
  },
  {
   "cell_type": "code",
   "execution_count": 44,
   "id": "784694ac",
   "metadata": {
    "execution": {
     "iopub.execute_input": "2022-10-01T16:39:56.427711Z",
     "iopub.status.busy": "2022-10-01T16:39:56.427355Z",
     "iopub.status.idle": "2022-10-01T16:39:56.443871Z",
     "shell.execute_reply": "2022-10-01T16:39:56.443025Z"
    },
    "papermill": {
     "duration": 0.288595,
     "end_time": "2022-10-01T16:39:56.445910",
     "exception": false,
     "start_time": "2022-10-01T16:39:56.157315",
     "status": "completed"
    },
    "tags": []
   },
   "outputs": [],
   "source": [
    "place_df = tourism_new\n",
    "df = pd.read_csv(f'{DATA_PATH}/tourism_rating.csv')\n",
    "\n",
    "user_id = df.User_Id.sample(1).iloc[0]\n",
    "place_visited_by_user = df[df.User_Id == user_id]\n",
    "\n",
    "place_not_visited = place_df[~place_df['id'].isin(place_visited_by_user['Place_Id'].values)]['id'] \n",
    "place_not_visited = list(\n",
    "    set(place_not_visited)\n",
    "    .intersection(set(place_to_place_encoded.keys()))\n",
    ")\n",
    " \n",
    "place_not_visited = [[place_to_place_encoded.get(x)] for x in place_not_visited]\n",
    "user_encoder = user_to_user_encoded.get(user_id)\n",
    "user_place_array = np.hstack(\n",
    "    ([[user_encoder]] * len(place_not_visited), place_not_visited)\n",
    ")"
   ]
  },
  {
   "cell_type": "code",
   "execution_count": 45,
   "id": "4f61c5af",
   "metadata": {
    "execution": {
     "iopub.execute_input": "2022-10-01T16:39:57.022994Z",
     "iopub.status.busy": "2022-10-01T16:39:57.022611Z",
     "iopub.status.idle": "2022-10-01T16:39:57.190051Z",
     "shell.execute_reply": "2022-10-01T16:39:57.188954Z"
    },
    "papermill": {
     "duration": 0.43749,
     "end_time": "2022-10-01T16:39:57.192134",
     "exception": false,
     "start_time": "2022-10-01T16:39:56.754644",
     "status": "completed"
    },
    "tags": []
   },
   "outputs": [
    {
     "name": "stdout",
     "output_type": "stream",
     "text": [
      "Showing recommendations for users: 274\n",
      "===========================\n",
      "Place with high ratings from user\n",
      "--------------------------------\n"
     ]
    },
    {
     "data": {
      "text/html": [
       "<div>\n",
       "<style scoped>\n",
       "    .dataframe tbody tr th:only-of-type {\n",
       "        vertical-align: middle;\n",
       "    }\n",
       "\n",
       "    .dataframe tbody tr th {\n",
       "        vertical-align: top;\n",
       "    }\n",
       "\n",
       "    .dataframe thead th {\n",
       "        text-align: right;\n",
       "    }\n",
       "</style>\n",
       "<table border=\"1\" class=\"dataframe\">\n",
       "  <thead>\n",
       "    <tr style=\"text-align: right;\">\n",
       "      <th></th>\n",
       "      <th>id</th>\n",
       "      <th>name</th>\n",
       "      <th>category</th>\n",
       "      <th>description</th>\n",
       "      <th>city</th>\n",
       "      <th>city_category</th>\n",
       "    </tr>\n",
       "  </thead>\n",
       "  <tbody>\n",
       "    <tr>\n",
       "      <th>67</th>\n",
       "      <td>227</td>\n",
       "      <td>Alun-Alun Kota Bandung</td>\n",
       "      <td>Taman Hiburan</td>\n",
       "      <td>Alun-alun Bandung adalah pusat kota Bandung ya...</td>\n",
       "      <td>Bandung</td>\n",
       "      <td>Bandung Taman Hiburan</td>\n",
       "    </tr>\n",
       "    <tr>\n",
       "      <th>238</th>\n",
       "      <td>214</td>\n",
       "      <td>Trans Studio Bandung</td>\n",
       "      <td>Taman Hiburan</td>\n",
       "      <td>Trans Studio Bandung adalah kawasan wisata ter...</td>\n",
       "      <td>Bandung</td>\n",
       "      <td>Bandung Taman Hiburan</td>\n",
       "    </tr>\n",
       "    <tr>\n",
       "      <th>303</th>\n",
       "      <td>327</td>\n",
       "      <td>Taman Miniatur Kereta Api</td>\n",
       "      <td>Taman Hiburan</td>\n",
       "      <td>Salah satu wisata yang ramai di Bandung adalah...</td>\n",
       "      <td>Bandung</td>\n",
       "      <td>Bandung Taman Hiburan</td>\n",
       "    </tr>\n",
       "    <tr>\n",
       "      <th>307</th>\n",
       "      <td>195</td>\n",
       "      <td>Pantai Jogan</td>\n",
       "      <td>Bahari</td>\n",
       "      <td>Pantai Jogan adalah objek wisata pantai yang t...</td>\n",
       "      <td>Yogyakarta</td>\n",
       "      <td>Yogyakarta Bahari</td>\n",
       "    </tr>\n",
       "    <tr>\n",
       "      <th>388</th>\n",
       "      <td>329</td>\n",
       "      <td>Bukit Gantole Cililin</td>\n",
       "      <td>Cagar Alam</td>\n",
       "      <td>Bukit Gantole Cililin atau yang dikenal juga d...</td>\n",
       "      <td>Bandung</td>\n",
       "      <td>Bandung Cagar Alam</td>\n",
       "    </tr>\n",
       "  </tbody>\n",
       "</table>\n",
       "</div>"
      ],
      "text/plain": [
       "      id                       name       category  \\\n",
       "67   227     Alun-Alun Kota Bandung  Taman Hiburan   \n",
       "238  214       Trans Studio Bandung  Taman Hiburan   \n",
       "303  327  Taman Miniatur Kereta Api  Taman Hiburan   \n",
       "307  195               Pantai Jogan         Bahari   \n",
       "388  329      Bukit Gantole Cililin     Cagar Alam   \n",
       "\n",
       "                                           description        city  \\\n",
       "67   Alun-alun Bandung adalah pusat kota Bandung ya...     Bandung   \n",
       "238  Trans Studio Bandung adalah kawasan wisata ter...     Bandung   \n",
       "303  Salah satu wisata yang ramai di Bandung adalah...     Bandung   \n",
       "307  Pantai Jogan adalah objek wisata pantai yang t...  Yogyakarta   \n",
       "388  Bukit Gantole Cililin atau yang dikenal juga d...     Bandung   \n",
       "\n",
       "             city_category  \n",
       "67   Bandung Taman Hiburan  \n",
       "238  Bandung Taman Hiburan  \n",
       "303  Bandung Taman Hiburan  \n",
       "307      Yogyakarta Bahari  \n",
       "388     Bandung Cagar Alam  "
      ]
     },
     "execution_count": 45,
     "metadata": {},
     "output_type": "execute_result"
    }
   ],
   "source": [
    "ratings = model.predict(user_place_array).flatten()\n",
    " \n",
    "top_ratings_indices = ratings.argsort()[-10:][::-1]\n",
    "recommended_place_ids = [\n",
    "    place_encoded_to_place.get(place_not_visited[x][0]) for x in top_ratings_indices\n",
    "]\n",
    " \n",
    "print('Showing recommendations for users: {}'.format(user_id))\n",
    "print('===' * 9)\n",
    "print('Place with high ratings from user')\n",
    "print('----' * 8)\n",
    " \n",
    "top_place_user = (\n",
    "    place_visited_by_user.sort_values(\n",
    "        by = 'Place_Ratings',\n",
    "        ascending=False\n",
    "    )\n",
    "    .head(5)\n",
    "    .Place_Id.values\n",
    ")\n",
    " \n",
    "place_df_rows = place_df[place_df['id'].isin(top_place_user)]\n",
    "pd.DataFrame(place_df_rows)"
   ]
  },
  {
   "cell_type": "code",
   "execution_count": 46,
   "id": "720986a9",
   "metadata": {
    "execution": {
     "iopub.execute_input": "2022-10-01T16:39:57.726155Z",
     "iopub.status.busy": "2022-10-01T16:39:57.725779Z",
     "iopub.status.idle": "2022-10-01T16:39:57.741458Z",
     "shell.execute_reply": "2022-10-01T16:39:57.740115Z"
    },
    "papermill": {
     "duration": 0.284935,
     "end_time": "2022-10-01T16:39:57.743918",
     "exception": false,
     "start_time": "2022-10-01T16:39:57.458983",
     "status": "completed"
    },
    "tags": []
   },
   "outputs": [
    {
     "name": "stdout",
     "output_type": "stream",
     "text": [
      "--------------------------------\n",
      "Top 10 place recommendation\n",
      "--------------------------------\n"
     ]
    },
    {
     "data": {
      "text/html": [
       "<div>\n",
       "<style scoped>\n",
       "    .dataframe tbody tr th:only-of-type {\n",
       "        vertical-align: middle;\n",
       "    }\n",
       "\n",
       "    .dataframe tbody tr th {\n",
       "        vertical-align: top;\n",
       "    }\n",
       "\n",
       "    .dataframe thead th {\n",
       "        text-align: right;\n",
       "    }\n",
       "</style>\n",
       "<table border=\"1\" class=\"dataframe\">\n",
       "  <thead>\n",
       "    <tr style=\"text-align: right;\">\n",
       "      <th></th>\n",
       "      <th>id</th>\n",
       "      <th>name</th>\n",
       "      <th>category</th>\n",
       "      <th>description</th>\n",
       "      <th>city</th>\n",
       "      <th>city_category</th>\n",
       "    </tr>\n",
       "  </thead>\n",
       "  <tbody>\n",
       "    <tr>\n",
       "      <th>16</th>\n",
       "      <td>67</td>\n",
       "      <td>Margasatwa Muara Angke</td>\n",
       "      <td>Cagar Alam</td>\n",
       "      <td>Suaka margasatwa Muara Angke adalah sebuah kaw...</td>\n",
       "      <td>Jakarta</td>\n",
       "      <td>Jakarta Cagar Alam</td>\n",
       "    </tr>\n",
       "    <tr>\n",
       "      <th>93</th>\n",
       "      <td>44</td>\n",
       "      <td>Monumen Selamat Datang</td>\n",
       "      <td>Budaya</td>\n",
       "      <td>Monumen Selamat Datang adalah sebuah monumen y...</td>\n",
       "      <td>Jakarta</td>\n",
       "      <td>Jakarta Budaya</td>\n",
       "    </tr>\n",
       "    <tr>\n",
       "      <th>102</th>\n",
       "      <td>97</td>\n",
       "      <td>Monumen Yogya Kembali</td>\n",
       "      <td>Budaya</td>\n",
       "      <td>Museum Monumen Yogya Kembali (bahasa Jawa: ꦩꦺꦴ...</td>\n",
       "      <td>Yogyakarta</td>\n",
       "      <td>Yogyakarta Budaya</td>\n",
       "    </tr>\n",
       "    <tr>\n",
       "      <th>144</th>\n",
       "      <td>224</td>\n",
       "      <td>Dago Dreampark</td>\n",
       "      <td>Taman Hiburan</td>\n",
       "      <td>Dago Dreampark merupakan wisata kekinian di Ko...</td>\n",
       "      <td>Bandung</td>\n",
       "      <td>Bandung Taman Hiburan</td>\n",
       "    </tr>\n",
       "    <tr>\n",
       "      <th>187</th>\n",
       "      <td>416</td>\n",
       "      <td>Keraton Surabaya</td>\n",
       "      <td>Budaya</td>\n",
       "      <td>Kawasan yang berjuluk Kampung Keraton ini terd...</td>\n",
       "      <td>Surabaya</td>\n",
       "      <td>Surabaya Budaya</td>\n",
       "    </tr>\n",
       "    <tr>\n",
       "      <th>207</th>\n",
       "      <td>230</td>\n",
       "      <td>Stone Garden Citatah</td>\n",
       "      <td>Taman Hiburan</td>\n",
       "      <td>Stone  Garden, adalah sebutan nama untuk hampa...</td>\n",
       "      <td>Bandung</td>\n",
       "      <td>Bandung Taman Hiburan</td>\n",
       "    </tr>\n",
       "    <tr>\n",
       "      <th>235</th>\n",
       "      <td>52</td>\n",
       "      <td>Kampung Cina</td>\n",
       "      <td>Budaya</td>\n",
       "      <td>KAMPUNG China adalah hunian dan kawasan perdag...</td>\n",
       "      <td>Jakarta</td>\n",
       "      <td>Jakarta Budaya</td>\n",
       "    </tr>\n",
       "    <tr>\n",
       "      <th>341</th>\n",
       "      <td>60</td>\n",
       "      <td>Museum Tekstil</td>\n",
       "      <td>Budaya</td>\n",
       "      <td>Museum cinta Tekstil menempati gedung tua di J...</td>\n",
       "      <td>Jakarta</td>\n",
       "      <td>Jakarta Budaya</td>\n",
       "    </tr>\n",
       "    <tr>\n",
       "      <th>393</th>\n",
       "      <td>79</td>\n",
       "      <td>Taman Spathodea</td>\n",
       "      <td>Taman Hiburan</td>\n",
       "      <td>Objek Wisata Taman Spathodea di Jagakarsa DKI ...</td>\n",
       "      <td>Jakarta</td>\n",
       "      <td>Jakarta Taman Hiburan</td>\n",
       "    </tr>\n",
       "    <tr>\n",
       "      <th>422</th>\n",
       "      <td>232</td>\n",
       "      <td>Bukit Moko</td>\n",
       "      <td>Cagar Alam</td>\n",
       "      <td>Bandung sebagai destinasi wisata tak pernah ad...</td>\n",
       "      <td>Bandung</td>\n",
       "      <td>Bandung Cagar Alam</td>\n",
       "    </tr>\n",
       "  </tbody>\n",
       "</table>\n",
       "</div>"
      ],
      "text/plain": [
       "      id                    name       category  \\\n",
       "16    67  Margasatwa Muara Angke     Cagar Alam   \n",
       "93    44  Monumen Selamat Datang         Budaya   \n",
       "102   97   Monumen Yogya Kembali         Budaya   \n",
       "144  224          Dago Dreampark  Taman Hiburan   \n",
       "187  416        Keraton Surabaya         Budaya   \n",
       "207  230    Stone Garden Citatah  Taman Hiburan   \n",
       "235   52            Kampung Cina         Budaya   \n",
       "341   60          Museum Tekstil         Budaya   \n",
       "393   79         Taman Spathodea  Taman Hiburan   \n",
       "422  232              Bukit Moko     Cagar Alam   \n",
       "\n",
       "                                           description        city  \\\n",
       "16   Suaka margasatwa Muara Angke adalah sebuah kaw...     Jakarta   \n",
       "93   Monumen Selamat Datang adalah sebuah monumen y...     Jakarta   \n",
       "102  Museum Monumen Yogya Kembali (bahasa Jawa: ꦩꦺꦴ...  Yogyakarta   \n",
       "144  Dago Dreampark merupakan wisata kekinian di Ko...     Bandung   \n",
       "187  Kawasan yang berjuluk Kampung Keraton ini terd...    Surabaya   \n",
       "207  Stone  Garden, adalah sebutan nama untuk hampa...     Bandung   \n",
       "235  KAMPUNG China adalah hunian dan kawasan perdag...     Jakarta   \n",
       "341  Museum cinta Tekstil menempati gedung tua di J...     Jakarta   \n",
       "393  Objek Wisata Taman Spathodea di Jagakarsa DKI ...     Jakarta   \n",
       "422  Bandung sebagai destinasi wisata tak pernah ad...     Bandung   \n",
       "\n",
       "             city_category  \n",
       "16      Jakarta Cagar Alam  \n",
       "93          Jakarta Budaya  \n",
       "102      Yogyakarta Budaya  \n",
       "144  Bandung Taman Hiburan  \n",
       "187        Surabaya Budaya  \n",
       "207  Bandung Taman Hiburan  \n",
       "235         Jakarta Budaya  \n",
       "341         Jakarta Budaya  \n",
       "393  Jakarta Taman Hiburan  \n",
       "422     Bandung Cagar Alam  "
      ]
     },
     "execution_count": 46,
     "metadata": {},
     "output_type": "execute_result"
    }
   ],
   "source": [
    "print('----' * 8)\n",
    "print('Top 10 place recommendation')\n",
    "print('----' * 8)\n",
    " \n",
    "recommended_place = place_df[place_df['id'].isin(recommended_place_ids)]\n",
    "recommended_place"
   ]
  }
 ],
 "metadata": {
  "kernelspec": {
   "display_name": "Python 3",
   "language": "python",
   "name": "python3"
  },
  "language_info": {
   "codemirror_mode": {
    "name": "ipython",
    "version": 3
   },
   "file_extension": ".py",
   "mimetype": "text/x-python",
   "name": "python",
   "nbconvert_exporter": "python",
   "pygments_lexer": "ipython3",
   "version": "3.7.12"
  },
  "papermill": {
   "default_parameters": {},
   "duration": 308.532347,
   "end_time": "2022-10-01T16:40:01.422932",
   "environment_variables": {},
   "exception": null,
   "input_path": "__notebook__.ipynb",
   "output_path": "__notebook__.ipynb",
   "parameters": {},
   "start_time": "2022-10-01T16:34:52.890585",
   "version": "2.3.4"
  }
 },
 "nbformat": 4,
 "nbformat_minor": 5
}
